{
 "cells": [
  {
   "cell_type": "markdown",
   "metadata": {},
   "source": [
    "# Course 1: Classification and Vector Spaces\n",
    "# Own project 2: Classifying a conversation using Naive Bayes\n",
    "\n",
    "In this notebook I will apply the knowledge I gained from the previous notebooks to classify a conversation using Naive Bayes."
   ]
  },
  {
   "cell_type": "markdown",
   "metadata": {},
   "source": [
    "## 1. Training data\n",
    "\n",
    "### 1.1 Importing and cleaning\n",
    "\n",
    "For this own project (in spanish), the first problem is getting a spanish dataset that we can use to train our model.\n",
    "For that, I will use a pre labeled dataset of spanish tweets.\n",
    "\n",
    "Dataset source: http://tass.sepln.org/tass_data/download.php?auth=6tQassjsi4HeLvhe5rN"
   ]
  },
  {
   "cell_type": "code",
   "execution_count": 1,
   "metadata": {},
   "outputs": [],
   "source": [
    "import xml.etree.ElementTree as ET\n",
    "import pandas as pd\n",
    "import os\n",
    "import numpy as np\n",
    "import matplotlib.pyplot as plt\n",
    "from tqdm import tqdm"
   ]
  },
  {
   "cell_type": "code",
   "execution_count": 2,
   "metadata": {},
   "outputs": [
    {
     "name": "stdout",
     "output_type": "stream",
     "text": [
      "Parsing file: general-train-tagged-3l.xml\n",
      "Parsing file: general-train-tagged.xml\n",
      "Parsing file: intertass-CR-train-tagged.xml\n",
      "Parsing file: intertass-ES-train-tagged.xml\n",
      "Parsing file: TASS2019_country_CR_train.xml\n",
      "Parsing file: TASS2019_country_ES_train.xml\n",
      "Parsing file: TASS2019_country_MX_train.xml\n",
      "Parsing file: TASS2019_country_PE_train.xml\n",
      "Parsing file: TASS2019_country_UY_train.xml\n"
     ]
    }
   ],
   "source": [
    "# Folder containing xml files: ../../datasets/es\n",
    "# All xml have the structure\n",
    "# <tweet>\n",
    "# \t\t<tweetid>768220253730009091</tweetid>\n",
    "# \t\t<user>Alis_8496</user>\n",
    "# \t\t<content>@Yulian_Poe @guillermoterry1 Ah. mucho más por supuesto! solo que lo incluyo. Me habías entendido mal </content>\n",
    "# \t\t<date>2016-08-23 22:55:55</date>\n",
    "# \t\t<lang>es</lang>\n",
    "# \t\t<sentiment>\n",
    "# \t\t\t<polarity><value>P</value></polarity>\n",
    "# \t\t</sentiment>\n",
    "# \t</tweet>\n",
    "\n",
    "# Read all xml into a pd dataframe. Keep only content and polarity value\n",
    "folder = '../../datasets/es/'\n",
    "files = os.listdir(folder)\n",
    "df = pd.DataFrame()\n",
    "for file in files:\n",
    "    if file.endswith(\".xml\"):\n",
    "        print(\"Parsing file: \" + file)\n",
    "        tree = ET.parse(folder + file)\n",
    "        root = tree.getroot()\n",
    "        for tweet in root:\n",
    "            content = tweet.find('content')\n",
    "            polarity = tweet.find('sentiment/polarity/value')\n",
    "            if content is not None and polarity is not None:\n",
    "                df = df.append({'content': content.text, 'polarity': polarity.text}, ignore_index=True)"
   ]
  },
  {
   "cell_type": "code",
   "execution_count": 3,
   "metadata": {},
   "outputs": [
    {
     "data": {
      "text/html": [
       "<div>\n",
       "<style scoped>\n",
       "    .dataframe tbody tr th:only-of-type {\n",
       "        vertical-align: middle;\n",
       "    }\n",
       "\n",
       "    .dataframe tbody tr th {\n",
       "        vertical-align: top;\n",
       "    }\n",
       "\n",
       "    .dataframe thead th {\n",
       "        text-align: right;\n",
       "    }\n",
       "</style>\n",
       "<table border=\"1\" class=\"dataframe\">\n",
       "  <thead>\n",
       "    <tr style=\"text-align: right;\">\n",
       "      <th></th>\n",
       "      <th>content</th>\n",
       "      <th>polarity</th>\n",
       "    </tr>\n",
       "  </thead>\n",
       "  <tbody>\n",
       "    <tr>\n",
       "      <th>0</th>\n",
       "      <td>@NoilyMV yo soy totalmente puntual</td>\n",
       "      <td>NONE</td>\n",
       "    </tr>\n",
       "    <tr>\n",
       "      <th>1</th>\n",
       "      <td>@DexterAOM por eso es que se dice lo del final...</td>\n",
       "      <td>NEU</td>\n",
       "    </tr>\n",
       "    <tr>\n",
       "      <th>2</th>\n",
       "      <td>@robertobrenes Bueno, no es tanto lo mayor com...</td>\n",
       "      <td>N</td>\n",
       "    </tr>\n",
       "    <tr>\n",
       "      <th>3</th>\n",
       "      <td>@doriamdiaz El de Halfon de Germinal se ve mor...</td>\n",
       "      <td>P</td>\n",
       "    </tr>\n",
       "    <tr>\n",
       "      <th>4</th>\n",
       "      <td>Ahorita me van a cambiar las ligas de los brak...</td>\n",
       "      <td>NONE</td>\n",
       "    </tr>\n",
       "  </tbody>\n",
       "</table>\n",
       "</div>"
      ],
      "text/plain": [
       "                                             content polarity\n",
       "0                 @NoilyMV yo soy totalmente puntual     NONE\n",
       "1  @DexterAOM por eso es que se dice lo del final...      NEU\n",
       "2  @robertobrenes Bueno, no es tanto lo mayor com...        N\n",
       "3  @doriamdiaz El de Halfon de Germinal se ve mor...        P\n",
       "4  Ahorita me van a cambiar las ligas de los brak...     NONE"
      ]
     },
     "execution_count": 3,
     "metadata": {},
     "output_type": "execute_result"
    }
   ],
   "source": [
    "df.head()"
   ]
  },
  {
   "cell_type": "code",
   "execution_count": 4,
   "metadata": {},
   "outputs": [
    {
     "data": {
      "text/plain": [
       "N    2613\n",
       "P    1941\n",
       "Name: polarity, dtype: int64"
      ]
     },
     "execution_count": 4,
     "metadata": {},
     "output_type": "execute_result"
    }
   ],
   "source": [
    "# Remove NONE polarity\n",
    "df = df[df['polarity'] != 'NONE']\n",
    "df['polarity'].value_counts()\n",
    "\n",
    "# Remove NEUTRAL polarity\n",
    "df = df[df['polarity'] != 'NEU']\n",
    "df['polarity'].value_counts()"
   ]
  },
  {
   "cell_type": "code",
   "execution_count": 5,
   "metadata": {},
   "outputs": [
    {
     "name": "stdout",
     "output_type": "stream",
     "text": [
      "Length of positive tweets: 1941\n",
      "Length of negative tweets: 1941\n"
     ]
    }
   ],
   "source": [
    "# Separate into positive and negative tweets\n",
    "train_x_pos = df[df['polarity'] == 'P']\n",
    "train_x_neg = df[df['polarity'] == 'N']\n",
    "\n",
    "# Remove the difference in length between positive and negative tweets\n",
    "len_final = len(train_x_pos) if len(train_x_pos) < len(train_x_neg) else len(train_x_neg)\n",
    "train_x_pos = train_x_pos[:len_final]\n",
    "train_x_neg = train_x_neg[:len_final]\n",
    "\n",
    "# Keep only the content, transform content column to list\n",
    "train_x_pos = train_x_pos['content'].tolist()\n",
    "train_x_neg = train_x_neg['content'].tolist()\n",
    "\n",
    "# Print length of positive and negative tweets\n",
    "print(\"Length of positive tweets: \" + str(len(train_x_pos)))\n",
    "print(\"Length of negative tweets: \" + str(len(train_x_neg)))"
   ]
  },
  {
   "cell_type": "markdown",
   "metadata": {},
   "source": [
    "Import the IMDB dataset."
   ]
  },
  {
   "cell_type": "code",
   "execution_count": 6,
   "metadata": {},
   "outputs": [
    {
     "data": {
      "text/html": [
       "<div>\n",
       "<style scoped>\n",
       "    .dataframe tbody tr th:only-of-type {\n",
       "        vertical-align: middle;\n",
       "    }\n",
       "\n",
       "    .dataframe tbody tr th {\n",
       "        vertical-align: top;\n",
       "    }\n",
       "\n",
       "    .dataframe thead th {\n",
       "        text-align: right;\n",
       "    }\n",
       "</style>\n",
       "<table border=\"1\" class=\"dataframe\">\n",
       "  <thead>\n",
       "    <tr style=\"text-align: right;\">\n",
       "      <th></th>\n",
       "      <th>review_es</th>\n",
       "      <th>sentimiento</th>\n",
       "    </tr>\n",
       "  </thead>\n",
       "  <tbody>\n",
       "    <tr>\n",
       "      <th>0</th>\n",
       "      <td>Uno de los otros críticos ha mencionado que de...</td>\n",
       "      <td>positivo</td>\n",
       "    </tr>\n",
       "    <tr>\n",
       "      <th>1</th>\n",
       "      <td>Una pequeña pequeña producción.La técnica de f...</td>\n",
       "      <td>positivo</td>\n",
       "    </tr>\n",
       "    <tr>\n",
       "      <th>2</th>\n",
       "      <td>Pensé que esta era una manera maravillosa de p...</td>\n",
       "      <td>positivo</td>\n",
       "    </tr>\n",
       "    <tr>\n",
       "      <th>3</th>\n",
       "      <td>Básicamente, hay una familia donde un niño peq...</td>\n",
       "      <td>negativo</td>\n",
       "    </tr>\n",
       "    <tr>\n",
       "      <th>4</th>\n",
       "      <td>El \"amor en el tiempo\" de Petter Mattei es una...</td>\n",
       "      <td>positivo</td>\n",
       "    </tr>\n",
       "  </tbody>\n",
       "</table>\n",
       "</div>"
      ],
      "text/plain": [
       "                                           review_es sentimiento\n",
       "0  Uno de los otros críticos ha mencionado que de...    positivo\n",
       "1  Una pequeña pequeña producción.La técnica de f...    positivo\n",
       "2  Pensé que esta era una manera maravillosa de p...    positivo\n",
       "3  Básicamente, hay una familia donde un niño peq...    negativo\n",
       "4  El \"amor en el tiempo\" de Petter Mattei es una...    positivo"
      ]
     },
     "execution_count": 6,
     "metadata": {},
     "output_type": "execute_result"
    }
   ],
   "source": [
    "# Import imdb_clean.csv\n",
    "df_imdb = pd.read_csv(folder + 'imdb_clean.csv')\n",
    "df_imdb.head()"
   ]
  },
  {
   "cell_type": "code",
   "execution_count": 7,
   "metadata": {},
   "outputs": [],
   "source": [
    "# Separate the IMDB dataset into positive and negative tweets\n",
    "imdb_pos = df_imdb[df_imdb['sentimiento'] == 'positivo']['review_es'].tolist()\n",
    "imdb_neg = df_imdb[df_imdb['sentimiento'] == 'negativo']['review_es'].tolist()\n",
    "\n",
    "# Append to the existing pos and neg lists\n",
    "train_x_pos.extend(imdb_pos)\n",
    "train_x_neg.extend(imdb_neg)\n",
    "\n",
    "# Create the final training set\n",
    "train_x = train_x_pos + train_x_neg\n",
    "train_y = [1] * len(train_x_pos) + [0] * len(train_x_neg)"
   ]
  },
  {
   "cell_type": "code",
   "execution_count": 8,
   "metadata": {},
   "outputs": [
    {
     "data": {
      "text/plain": [
       "<matplotlib.collections.PathCollection at 0x160ba10dc88>"
      ]
     },
     "execution_count": 8,
     "metadata": {},
     "output_type": "execute_result"
    },
    {
     "data": {
      "image/png": "[encoded data removed]",
      "text/plain": [
       "<Figure size 432x288 with 1 Axes>"
      ]
     },
     "metadata": {
      "needs_background": "light"
     },
     "output_type": "display_data"
    }
   ],
   "source": [
    "#plot train y over indexes. points\n",
    "plt.scatter(range(len(train_y)), train_y)"
   ]
  },
  {
   "cell_type": "code",
   "execution_count": 9,
   "metadata": {},
   "outputs": [],
   "source": [
    "# Shuffle train_x and train_y. Transform first to pandas, shuffle and transform back to list\n",
    "df_shuffle = pd.DataFrame({'x': train_x, 'y': train_y})\n",
    "df_shuffle = df_shuffle.reindex(np.random.permutation(df_shuffle.index))\n",
    "train_x = df_shuffle['x'].tolist()\n",
    "train_y = df_shuffle['y'].tolist()"
   ]
  },
  {
   "cell_type": "code",
   "execution_count": 10,
   "metadata": {},
   "outputs": [
    {
     "data": {
      "text/plain": [
       "<matplotlib.collections.PathCollection at 0x160bae38f08>"
      ]
     },
     "execution_count": 10,
     "metadata": {},
     "output_type": "execute_result"
    },
    {
     "data": {
      "image/png": "[encoded data removed]",
      "text/plain": [
       "<Figure size 432x288 with 1 Axes>"
      ]
     },
     "metadata": {
      "needs_background": "light"
     },
     "output_type": "display_data"
    }
   ],
   "source": [
    "plt.scatter(range(len(train_y)), train_y)"
   ]
  },
  {
   "cell_type": "code",
   "execution_count": 11,
   "metadata": {},
   "outputs": [
    {
     "name": "stdout",
     "output_type": "stream",
     "text": [
      "Head of the training set x: \n",
      "[\"Si no has visto a Zombie Bloodbath, no lo has hecho. Un concurso como 'Haz tu propia película de terror en un día', no podría ocurrir una entrada que esta indignación de un insulto en la inteligencia de cualquier espectador. El Sr. Hoets olvidó una historia, una trama, un diálogo adecuado, el hecho de que las personas necesitan algunos talentos de acción básica y el diseñador de iluminación acreditado obviamente se olvidó de aparecer. Parece que se registra en la crujiente de Handycams, y copiado en un equipo peor aún. El efecto de maquillaje consiste en la máscara negra para que los zombies y el yogur se vierten sobre las cabezas de las personas para simular su fundición de la piel. Esto no es más que una película en casa, y una muy mala también. Solo divertido para observar a los amigos, familiares y vecinos que estaban dispuestos a aparecer por la filmación. No puedo por la vida de mí entender por qué esta burla de un producto se encuentra en cualquier revista o sitio web de cine seria, tengo películas caseras de bodas que son mucho mejor y más interesantes. Una pérdida total de tiempo, dinero y energía. La secuela Zombie Bloodbath II es más de la misma basura.\", '¿Quién fue George C. Scott? George C. Scott fue un actor de renombre. Prácticamente cualquier película en la que ha estado es el mejor para ello. Ahora, Ol \\'George no tenía absolutamente nada que ver con esta película ..., pero una vez dijo algo que describe dicha película a un TI, no recuerdas sus palabras exactas, pero básicamente dijo que gran escritura puede ahorrar mala actuación, pero genial Actuar no puede salvar mal escritura. Nunca ha sido esta pequeña observación más verdadera que en \"Las nuevas aventuras de Laurel y Hardy: para el amor o la momia\". El casting de los dos clientes potenciales era absolutamente perfecto. Bronson Pinchot (Laurel) y Gailard Sartain (Hardy) no solo miran las partes, sino que hacen un trabajo excepcionalmente bueno al imitar el verdadero trato (modales y todos). Esta película debe pararse como un testimonio duradero de sus talentos. Dicho esto, esta película cae en su cara cuando se trata de la escritura (lo adivinaste). Aseguida desde el diálogo de apertura entre Pinchot y Sartain (que fue muy \"en carácter\") y una breve gordita que involucra un taxi, esta película es Una tarea absoluta para sentarse a través de.Problem # 1: demasiado tiempo y esfuerzo entró en la trama. No quiero saber por qué la momia quiere secuestrar a la hermosa dama británica. Lo que quiero es ver a STAN y Ollie (o al menos, sus stand-ins). Demasiado tiempo de pantalla se dedicó a explicar la trama o a los personajes secundarios no muy divertidos que dichos gráficos giraban alrededor. Sin embargo, incluso si esta película había sido todas las bromas, que aún nos dejaría con ...... Problema # 2: La mayoría de los chistes son lo que llamaría la slapstick \"diluido\". ¿Qué quiere decir con \"diluido\"? En Slapstick, un personaje se lastima en una forma exagerada para el efecto comedico (Ala Looney Tunes, 3 Stooges ..., ¿qué hay de Laurel & Hardy?). En \"diluido\" Slapstick (a medida que lo defino), un personaje se duele ligeramente o los inconvenientes, y los cineastas juegan eso para el efecto comedico. Una ilustración ayudaría: en Looney Tunes, Daffy Duck recibe un disparo por Elmer Fudd. Su cuenta se cae y él lo pone de nuevo. Ese es la slapstick clásica. Esta \"gema\", Ollie se golpea accidentalmente a algunas personas. Se dan la vuelta, diles que tenga cuidado y continúe por su Feliz Way. Eso no es slapstick. Eso ni siquiera es gracioso. Eso es solo ... aburrido ... y esta película está llena de este tipo de chistes. Es como si fueran pan y mantequilla de esta película. Los escritores y directores solo toman estos momentos aburridos y actúan como si se supone que son divertidos. Por supuesto, el ejemplo que acabo de dar es el caso más extremo, pero solo puedo cortarlo tanta holgura. Santa historia corta: la película simplemente no funciona porque el guión no puede capitalizar las habilidades de Pinchot y Sartain para imponerse a Stan y Ollie . En su lugar, el guión capitaliza la exposición de la trama y los chistes cojos. Ver a esta película está observando básicamente dos excelentes impersonadores que no recibieron material real para trabajar con. No una buena película, sino una increíble ayuda para dormir. Digo que le dé una señorita y se pegue con el verdadero negocio (siempre y cuando guíe Claro de \"atoll k\" y \"ser grande\").', 'Ignora el comentario ante el mío. El espectáculo es el genio cómico, la mayoría de los showes subestimados. 3 razones por las que. Razón 1, los flashbacks son hilarantes, a los que se preocupa si no tienen absolutamente nada que ver con la historia, me hacen reír tan difícil que duele y no es la idea de un buen programa de comedia. Las personas que piensan que esto no es gracioso, simplemente no tiene sentido del humor. A quien le importa si son al azar, es un T.V. Mostrar, puedes hacer lo que quieras con él y la gente dice que no es realista, tampoco es una caricatura, está animada. Razón 2, los chistes son generalmente hilarantes, Seth McFarlane y los otros escritores son tan divertidos, todo, desde las referencias de Star Wars a burlarse de las celebridades, los amo a todos. Y la razón 3, las líneas de la historia son simplemente brillantes y divertidas, establecieron todos los chistes con su naturaleza loca y el roseo, todo lo más divertido. Me atrapó esta noche en la BBC2 y nunca he vuelto, tengo todo 7 Seasons, además del tipo de cine (Stewie Griffin: la historia no contada), tengo varias camisetas, carteles y mi colección todavía está creciendo. Nunca he recibido una colección de ningún programa de televisión antes, pero esto fue tan gracioso que solo tenía que obtener todo. Simplemente mira la temporada 3 y confía en mí, estarás enganchado de la vida, el espectáculo más divertido jamás creado y espero que nunca termine!', 'Esta es una excelente comedia romántica fuera de la pared sobre el amor, el trabajo, lo que brota al gusto público y las crisis de la mediana edad.El personaje principal es un talentoso director de cine que decide hacer una película tonta PG-13 para salir de Hock con el IRS.Tiene un excelente reparto, una amplia gama de humor (desde un límite hasta slapstick), y bien escritura.También es un asombroso envío de la industria cinematográfica.El metacommentario incluye varios recortes excelentes entre la realidad y la película que se está haciendo, y en algunos lugares, la película sale del estricto realismo.El resultado es una obra maestra multidimensional de humor de mediana edad.', 'Muchas de las películas clásicas de los últimos 60 no han conservado su capacidad para molestar y enfrentar a la audiencia. \"En sangre fría\" no ha perdido una onza de su poder. Es excepcionalmente bien hecho pero obliga al espectador a pensar. Algunos se han quejado no solo de la película, sino también sobre la fuente de Truman Capote \"Novela de no ficción\", que el mensaje central no es sujeto. Eso puede ser cierto, pero esto es definitivamente un caso en el que la falta de ambigüedad no restaba de la película en absoluto. Es refrescante, especialmente considerando los dramas morales simplistas y manipuladores de hoy, para ver una película con una voz política convencida que no tiene miedo de obligar a la audiencia a considerar su punto de vista. Para ser honesto, no estoy seguro de si estoy de acuerdo con el mensaje central de la película, pero admiro su audacia, sin embargo. Incluso si no está de acuerdo con el mensaje de la pena anti-capital, hay mucho que admirar sobre la película. La actuación de los dos clientes potenciales es estupenda. Scott Wilson (todavía uno de los actores más subestimados de la historia) se está enfriando como el líder nihilístico, uno que usa su carisma para ocultar sus debilidades. Robert Blake también se está enfriando como más sumisos de los dos y la de la conciencia. Su carácter obviamente tiene una voz de la razón, pero está aterrorizada a ir contra Wilson (hay una buena cantidad de subtexto homoerótico en la parte de su personaje). La cinematografía es excelente, elegante pero arenosa y realmente dando la impresión, el espectador está observando un documental. Agregue otra puntuación clásica de Quincey Jones, y tiene una obra maestra. (9/10)']\n",
      "Head of the training set y: \n",
      "[0, 0, 1, 1, 1]\n"
     ]
    }
   ],
   "source": [
    "# Print head of the training set x and y\n",
    "print(\"Head of the training set x: \")\n",
    "print(train_x[:5])\n",
    "print(\"Head of the training set y: \")\n",
    "print(train_y[:5])"
   ]
  },
  {
   "cell_type": "code",
   "execution_count": 12,
   "metadata": {},
   "outputs": [],
   "source": [
    "# From train sets, remove 20% and save as test sets\n",
    "train_x = np.array(train_x)\n",
    "train_y = np.array(train_y)\n",
    "test_x = train_x[int(len(train_x) * 0.2):]\n",
    "test_y = train_y[int(len(train_y) * 0.2):]\n",
    "train_x = train_x[:int(len(train_x) * 0.2)]\n",
    "train_y = train_y[:int(len(train_y) * 0.2)]"
   ]
  },
  {
   "cell_type": "code",
   "execution_count": 13,
   "metadata": {},
   "outputs": [
    {
     "name": "stdout",
     "output_type": "stream",
     "text": [
      "Length of train_x: 10776\n",
      "Length of train_y: 10776\n",
      "Length of test_x: 43106\n",
      "Length of test_y: 43106\n",
      "<class 'numpy.ndarray'>\n",
      "<class 'numpy.ndarray'>\n",
      "<class 'numpy.ndarray'>\n",
      "<class 'numpy.ndarray'>\n"
     ]
    }
   ],
   "source": [
    "# Print length of all sets train and test for X and Y\n",
    "print(\"Length of train_x: \" + str(len(train_x)))\n",
    "print(\"Length of train_y: \" + str(len(train_y)))\n",
    "print(\"Length of test_x: \" + str(len(test_x)))\n",
    "print(\"Length of test_y: \" + str(len(test_y)))\n",
    "\n",
    "print(type(train_x))\n",
    "print(type(train_y))\n",
    "print(type(test_x))\n",
    "print(type(test_y))"
   ]
  },
  {
   "cell_type": "markdown",
   "metadata": {},
   "source": [
    "### 1.2 String cleaning, tokenization and stemming"
   ]
  },
  {
   "cell_type": "markdown",
   "metadata": {},
   "source": [
    "For the spanish stopwords, I will be importing it from the internet and merge it with the spanish stopwords from the nltk library.\n",
    "Link: https://github.com/Alir3z4/stop-words/blob/master/spanish.txt"
   ]
  },
  {
   "cell_type": "code",
   "execution_count": 14,
   "metadata": {},
   "outputs": [],
   "source": [
    "import re\n",
    "import unidecode\n",
    "from nltk.stem.snowball import SnowballStemmer\n",
    "from nltk.tokenize import TweetTokenizer\n",
    "from nltk.corpus import stopwords\n",
    "\n",
    "stopwords_es = stopwords.words('spanish')\n",
    "\n",
    "# Import stopwords from txt\n",
    "with open(folder + 'stopwords.txt', 'r') as f:\n",
    "    stopwords_es.extend(f.read().splitlines())\n",
    "\n",
    "# To lower, remove duplicates\n",
    "stopwords_es = list(set(stopwords_es))\n",
    "stopwords_es = [word.lower() for word in stopwords_es]"
   ]
  },
  {
   "cell_type": "code",
   "execution_count": 15,
   "metadata": {},
   "outputs": [],
   "source": [
    "stemmer = SnowballStemmer('spanish')\n",
    "\n",
    "def clean_string(tweet):\n",
    "    \"\"\"\n",
    "    Input: \n",
    "        - tweet string\n",
    "    Output:\n",
    "        - tokenized, cleaned, and stemmed tweet\n",
    "    \"\"\"\n",
    "    # Cleaning the text\n",
    "\n",
    "    # To lower\n",
    "    tweet = tweet.lower()\n",
    "    # Remove URLs\n",
    "    tweet = re.sub(r'http\\S+', '', tweet)\n",
    "    # Remove usernames\n",
    "    tweet = re.sub(r'@\\S+', '', tweet)\n",
    "    # Remove hashtag symbol only\n",
    "    tweet = re.sub(r'#', '', tweet)\n",
    "    # Remove special characters\n",
    "    tweet = re.sub(r'[^\\w\\s]', '', tweet)\n",
    "    # Remove numbers\n",
    "    tweet = re.sub(r'\\d', '', tweet)\n",
    "\n",
    "    # Tokenize\n",
    "    tweet = TweetTokenizer(strip_handles=True, reduce_len=True).tokenize(tweet)\n",
    "\n",
    "    # Remove stopwords\n",
    "    tweet = [word for word in tweet if word not in stopwords_es]\n",
    "\n",
    "    # Stemming\n",
    "    tweet = [stemmer.stem(word) for word in tweet]\n",
    "\n",
    "    return tweet"
   ]
  },
  {
   "cell_type": "markdown",
   "metadata": {},
   "source": [
    "## 2. Training the model"
   ]
  },
  {
   "cell_type": "code",
   "execution_count": 16,
   "metadata": {},
   "outputs": [],
   "source": [
    "# Count tweets function\n",
    "def count_words(result, texts, ys):\n",
    "    \"\"\"\n",
    "    Input:\n",
    "        - result: dictionary containing a pair (word, label) and its frequency\n",
    "        - texts: a list of texts\n",
    "        - ys: a list of labels\n",
    "    Output:\n",
    "        - result: dictionary containing a pair (word, label) and its frequency\n",
    "    \"\"\"\n",
    "    for y, text in tqdm(zip(ys, texts), total=len(texts)):\n",
    "        tokens = clean_string(text)\n",
    "        for word in tokens:\n",
    "            pair = (word, y)\n",
    "            if pair in result:\n",
    "                result[pair] += 1\n",
    "            else:\n",
    "                result[pair] = 1\n",
    "    return result"
   ]
  },
  {
   "cell_type": "code",
   "execution_count": 17,
   "metadata": {},
   "outputs": [
    {
     "name": "stderr",
     "output_type": "stream",
     "text": [
      "100%|██████████| 3/3 [00:00<00:00, 214.32it/s]\n"
     ]
    },
    {
     "data": {
      "text/plain": [
       "{('amo', 1): 1,\n",
       " ('gat', 1): 1,\n",
       " ('gust', 1): 1,\n",
       " ('cin', 1): 1,\n",
       " ('gust', 0): 1,\n",
       " ('marisc', 0): 1}"
      ]
     },
     "execution_count": 17,
     "metadata": {},
     "output_type": "execute_result"
    }
   ],
   "source": [
    "result = {}\n",
    "tweets = [\"Amo a mi gato\", \"Me gusta el cine\", \"No me gusta el marisco\"]\n",
    "ys = [1, 1, 0]\n",
    "count_words(result, tweets, ys)"
   ]
  },
  {
   "cell_type": "code",
   "execution_count": 18,
   "metadata": {},
   "outputs": [
    {
     "name": "stderr",
     "output_type": "stream",
     "text": [
      "100%|██████████| 10776/10776 [01:14<00:00, 144.26it/s]\n"
     ]
    }
   ],
   "source": [
    "freqs = count_words({}, train_x, train_y)"
   ]
  },
  {
   "cell_type": "code",
   "execution_count": 19,
   "metadata": {},
   "outputs": [],
   "source": [
    "def lookup(freqs, word, label):\n",
    "    '''\n",
    "    Input:\n",
    "        freqs: a dictionary with the frequency of each pair (or tuple)\n",
    "        word: the word to look up\n",
    "        label: the label corresponding to the word\n",
    "    Output:\n",
    "        n: the number of times the word with its corresponding label appears.\n",
    "    '''\n",
    "    n = 0  # freqs.get((word, label), 0)\n",
    "\n",
    "    pair = (word, label)\n",
    "    if (pair in freqs):\n",
    "        n = freqs[pair]\n",
    "\n",
    "    return n"
   ]
  },
  {
   "cell_type": "code",
   "execution_count": 20,
   "metadata": {},
   "outputs": [],
   "source": [
    "def train_naive_bayes(freqs, train_x, train_y):\n",
    "    '''\n",
    "    Input:\n",
    "        freqs: dictionary from (word, label) to how often the word appears\n",
    "        train_x: a list of tweets\n",
    "        train_y: a list of labels correponding to the tweets (0,1)\n",
    "    Output:\n",
    "        logprior: the log prior. (equation 3 above)\n",
    "        loglikelihood: the log likelihood of you Naive bayes equation. (equation 6 above)\n",
    "    '''\n",
    "    loglikelihood = {}\n",
    "    logprior = 0\n",
    "\n",
    "    ### START CODE HERE (REPLACE INSTANCES OF 'None' with your code) ###\n",
    "\n",
    "    # calculate V, the number of unique words in the vocabulary\n",
    "    vocab = set([pair[0] for pair in freqs.keys()])\n",
    "    V = len(vocab)\n",
    "\n",
    "    # calculate N_pos and N_neg\n",
    "    N_pos = N_neg = 0\n",
    "    for pair in freqs.keys():\n",
    "        # if the label is positive (greater than zero)\n",
    "        if pair[1] > 0:\n",
    "\n",
    "            # Increment the number of positive words by the count for this (word, label) pair\n",
    "            N_pos += 1\n",
    "\n",
    "        # else, the label is negative\n",
    "        else:\n",
    "\n",
    "            # increment the number of negative words by the count for this (word,label) pair\n",
    "            N_neg += 1\n",
    "\n",
    "    # Calculate D, the number of documents\n",
    "    D = len(train_y)\n",
    "\n",
    "    # Calculate D_pos, the number of positive documents (*hint: use sum(<np_array>))\n",
    "    D_pos = np.sum(train_y)\n",
    "\n",
    "    # Calculate D_neg, the number of negative documents (*hint: compute using D and D_pos)\n",
    "    D_neg = D - D_pos\n",
    "\n",
    "    # Calculate logprior\n",
    "    logprior = np.log(D_pos) - np.log(D_neg)\n",
    "\n",
    "    # For each word in the vocabulary...\n",
    "    for word in vocab:\n",
    "        # get the positive and negative frequency of the word\n",
    "        freq_pos = lookup(freqs, word, 1)\n",
    "        freq_neg = lookup(freqs, word, 0)\n",
    "\n",
    "        # calculate the probability that each word is positive, and negative\n",
    "        p_w_pos = (freq_pos + 1) / (N_pos + V)\n",
    "        p_w_neg = (freq_neg + 1) / (N_neg + V)\n",
    "\n",
    "        # calculate the log likelihood of the word\n",
    "        loglikelihood[word] = np.log(p_w_pos) - np.log(p_w_neg)\n",
    "\n",
    "    ### END CODE HERE ###\n",
    "\n",
    "    return logprior, loglikelihood"
   ]
  },
  {
   "cell_type": "code",
   "execution_count": 28,
   "metadata": {},
   "outputs": [
    {
     "name": "stdout",
     "output_type": "stream",
     "text": [
      "0.004083153408609874\n",
      "71824\n"
     ]
    }
   ],
   "source": [
    "# If naive_results.pkl file exists inport, else create\n",
    "if os.path.exists(folder + 'naive_results.pkl'):\n",
    "    with open(folder + 'naive_results.pkl', 'rb') as f:\n",
    "        naive_results = pickle.load(f)\n",
    "else:\n",
    "    naive_results = {}\n",
    "    naive_results['logprior'], naive_results['loglikelihood'] = train_naive_bayes(freqs, train_x, train_y)\n",
    "    with open(folder + 'naive_results.pkl', 'wb') as f:\n",
    "        pickle.dump(naive_results, f)"
   ]
  },
  {
   "cell_type": "markdown",
   "metadata": {},
   "source": [
    "## Testing the model"
   ]
  },
  {
   "cell_type": "code",
   "execution_count": 48,
   "metadata": {},
   "outputs": [],
   "source": [
    "# UNQ_C4 (UNIQUE CELL IDENTIFIER, DO NOT EDIT)\n",
    "def naive_bayes_predict(tweet, logprior, loglikelihood):\n",
    "    '''\n",
    "    Input:\n",
    "        tweet: a string\n",
    "        logprior: a number\n",
    "        loglikelihood: a dictionary of words mapping to numbers\n",
    "    Output:\n",
    "        p: the sum of all the logliklihoods of each word in the tweet (if found in the dictionary) + logprior (a number)\n",
    "\n",
    "    '''\n",
    "    ### START CODE HERE (REPLACE INSTANCES OF 'None' with your code) ###\n",
    "    # process the tweet to get a list of words\n",
    "    word_l = clean_string(tweet)\n",
    "\n",
    "    # initialize probability to zero\n",
    "    p = 0\n",
    "\n",
    "    # add the logprior\n",
    "    p += logprior\n",
    "\n",
    "    for word in word_l:\n",
    "\n",
    "        # check if the word exists in the loglikelihood dictionary\n",
    "        if word in loglikelihood:\n",
    "            # add the log likelihood of that word to the probability\n",
    "            p += loglikelihood[word]\n",
    "\n",
    "    ### END CODE HERE ###\n",
    "\n",
    "    return p"
   ]
  },
  {
   "cell_type": "code",
   "execution_count": 23,
   "metadata": {},
   "outputs": [],
   "source": [
    "# UNQ_C6 (UNIQUE CELL IDENTIFIER, DO NOT EDIT)\n",
    "def test_naive_bayes(test_x, test_y, logprior, loglikelihood):\n",
    "    \"\"\"\n",
    "    Input:\n",
    "        test_x: A list of tweets\n",
    "        test_y: the corresponding labels for the list of tweets\n",
    "        logprior: the logprior\n",
    "        loglikelihood: a dictionary with the loglikelihoods for each word\n",
    "    Output:\n",
    "        accuracy: (# of tweets classified correctly)/(total # of tweets)\n",
    "    \"\"\"\n",
    "    accuracy = 0  # return this properly\n",
    "\n",
    "    ### START CODE HERE (REPLACE INSTANCES OF 'None' with your code) ###\n",
    "    y_hats = []\n",
    "    for tweet in tqdm(test_x):\n",
    "        # if the prediction is > 0\n",
    "        if naive_bayes_predict(tweet, logprior, loglikelihood) > 0:\n",
    "            # the predicted class is 1\n",
    "            y_hat_i = 1\n",
    "        else:\n",
    "            # otherwise the predicted class is 0\n",
    "            y_hat_i = 0\n",
    "\n",
    "        # append the predicted class to the list y_hats\n",
    "        y_hats.append(y_hat_i)\n",
    "\n",
    "    # error is the average of the absolute values of the differences between y_hats and test_y\n",
    "    error = np.mean(np.absolute(y_hats-test_y))\n",
    "\n",
    "    # Accuracy is 1 minus the error\n",
    "    accuracy = 1-error\n",
    "\n",
    "    ### END CODE HERE ###\n",
    "\n",
    "    return accuracy"
   ]
  },
  {
   "cell_type": "code",
   "execution_count": 24,
   "metadata": {},
   "outputs": [
    {
     "name": "stderr",
     "output_type": "stream",
     "text": [
      "100%|██████████| 43106/43106 [04:54<00:00, 146.29it/s]"
     ]
    },
    {
     "name": "stdout",
     "output_type": "stream",
     "text": [
      "Naive Bayes accuracy = 0.8025\n"
     ]
    },
    {
     "name": "stderr",
     "output_type": "stream",
     "text": [
      "\n"
     ]
    }
   ],
   "source": [
    "print(\"Naive Bayes accuracy = %0.4f\" %\n",
    "      (test_naive_bayes(test_x, test_y, logprior, loglikelihood)))"
   ]
  },
  {
   "cell_type": "markdown",
   "metadata": {},
   "source": [
    "Now this is much better than the previous notebook which had 0.6 accuracy."
   ]
  },
  {
   "cell_type": "markdown",
   "metadata": {},
   "source": [
    "## Analyze my tweets"
   ]
  },
  {
   "cell_type": "code",
   "execution_count": 36,
   "metadata": {},
   "outputs": [],
   "source": [
    "import pickle\n",
    "# Import tweets.pkl\n",
    "with open('tweets.pkl', 'rb') as f:\n",
    "    tweets = pickle.load(f)\n",
    "tweets = [tweet.full_text for tweet in tweets]"
   ]
  },
  {
   "cell_type": "code",
   "execution_count": 54,
   "metadata": {},
   "outputs": [
    {
     "name": "stdout",
     "output_type": "stream",
     "text": [
      "-0.3359628452756205\n",
      "-0.03643020971222288\n"
     ]
    }
   ],
   "source": [
    "# Predict\n",
    "text = \"Que ricos estaban los cereales\"\n",
    "print(naive_bayes_predict(text, logprior, loglikelihood))\n",
    "text = \"Nop me ha gustado anda la comida de hoy\"\n",
    "print(naive_bayes_predict(text, logprior, loglikelihood))"
   ]
  },
  {
   "cell_type": "code",
   "execution_count": 62,
   "metadata": {},
   "outputs": [
    {
     "data": {
      "application/vnd.jupyter.widget-view+json": {
       "model_id": "ef82f28d7a874cc88a9fffec5f2cce6c",
       "version_major": 2,
       "version_minor": 0
      },
      "text/plain": [
       "Pandas Apply:   0%|          | 0/2174 [00:00<?, ?it/s]"
      ]
     },
     "metadata": {},
     "output_type": "display_data"
    }
   ],
   "source": [
    "import swifter\n",
    "\n",
    "# tweets_df. column text = tweets, prediction = \"\"\n",
    "tweets_df = pd.DataFrame(tweets, columns=['text'])\n",
    "tweets_df['prediction'] = tweets_df['text'].swifter.apply(lambda tweet: naive_bayes_predict(tweet, logprior, loglikelihood))\n"
   ]
  },
  {
   "cell_type": "code",
   "execution_count": 65,
   "metadata": {},
   "outputs": [
    {
     "name": "stdout",
     "output_type": "stream",
     "text": [
      "                                                   text  prediction\n",
      "806                             @aucsi ansioso espero 😎   -0.161808\n",
      "76                             @cyberlentejas Kaczynski    0.004083\n",
      "1642                           qe bonita la luna amigos    1.422869\n",
      "1719  4 masibon qe me meto en el dia gracias ansieda...    3.344203\n",
      "659   1h de jornada laboral y ya estoy hasta los huevos    0.972390\n"
     ]
    }
   ],
   "source": [
    "# Print 5 random tweets with the predicted class\n",
    "print(tweets_df.sample(5))"
   ]
  },
  {
   "cell_type": "code",
   "execution_count": 95,
   "metadata": {},
   "outputs": [
    {
     "data": {
      "image/png": "[encoded data removed]",
      "text/plain": [
       "<Figure size 432x288 with 1 Axes>"
      ]
     },
     "metadata": {
      "needs_background": "light"
     },
     "output_type": "display_data"
    }
   ],
   "source": [
    "# Save the predictions in a list\n",
    "preds_list = tweets_df['prediction'].tolist()\n",
    "\n",
    "mean = np.mean(preds_list)\n",
    "plt.hist(preds_list, bins=20)\n",
    "plt.axvline(mean, color='r')\n",
    "plt.legend(['Mean = %0.4f' % mean])\n",
    "\n",
    "plt.show()"
   ]
  },
  {
   "cell_type": "code",
   "execution_count": 100,
   "metadata": {},
   "outputs": [
    {
     "name": "stdout",
     "output_type": "stream",
     "text": [
      "pros de terminar examenes: terminas examenes\n",
      "cons: tener qe recoger la cuadra de cuarto en la qe he estao viviendo sin cuidao alguno qe de vd parece q han vivio aqi 2 yeguas\n",
      "7.01601365032189\n",
      "\n",
      "otra vez mi familia diciendo qe enseñe los tatus y las cosas como si fuera un escaparate delante to la familia y qe qe son qe por qe me los hago mira me tenio qe levantar e irme qe ansiedad qe incomodidad\n",
      "9.146069474044628\n",
      "\n"
     ]
    }
   ],
   "source": [
    "# Check if any prediction is above 5 sigma or below -5 sigma\n",
    "sigma = np.std(preds_list)\n",
    "important = np.where((preds_list > 5*sigma) | (preds_list < -5*sigma))\n",
    "\n",
    "# Print the important tweets\n",
    "for i in important[0]:\n",
    "    print(tweets_df.iloc[i]['text'])\n",
    "    print(tweets_df.iloc[i]['prediction'])\n",
    "    print()"
   ]
  },
  {
   "cell_type": "markdown",
   "metadata": {},
   "source": [
    "As we can see, both tweets are somewhat negative. This may be because my tweets are written with abbreviations and my tweets may have not been well stemmed."
   ]
  }
 ],
 "metadata": {
  "kernelspec": {
   "display_name": "Python 3.7.13 ('nlp')",
   "language": "python",
   "name": "python3"
  },
  "language_info": {
   "codemirror_mode": {
    "name": "ipython",
    "version": 3
   },
   "file_extension": ".py",
   "mimetype": "text/x-python",
   "name": "python",
   "nbconvert_exporter": "python",
   "pygments_lexer": "ipython3",
   "version": "3.7.13"
  },
  "orig_nbformat": 4,
  "vscode": {
   "interpreter": {
    "hash": "84be8c82a7a3e86db451810d88cd8e67624a6eca0a3f1ff4d59d995ee7a917f6"
   }
  }
 },
 "nbformat": 4,
 "nbformat_minor": 2
}
