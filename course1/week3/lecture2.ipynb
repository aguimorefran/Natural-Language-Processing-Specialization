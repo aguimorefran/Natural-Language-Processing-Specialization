{
 "cells": [
  {
   "cell_type": "markdown",
   "metadata": {},
   "source": [
    "# Course 1: Classification and Vector Spaces\n",
    "# Week 3: Another explanation about PCA\n",
    "\n",
    "In this lab, we are going to view another explanation about Principal Component Analysis(PCA). PCA is a statistical technique invented in 1901 by Karl Pearson that uses orthogonal transformations to map a set of variables into a set of linearly uncorrelated variables called Principal Components.\n",
    "\n",
    "PCA is based on the Singular Value Decomposition(SVD) of the Covariance Matrix of the original dataset. The Eigenvectors of such decomposition are used as a rotation matrix. The Eigenvectors are arranged in the rotation matrix in decreasing order according to its explained variance. This last term is related to the EigenValues of the SVD.\n",
    "\n",
    "PCA is a potent technique with applications ranging from simple space transformation, dimensionality reduction, and mixture separation from spectral information.\n",
    "\n",
    "Follow this lab to view another explanation for PCA. In this case, we are going to use the concept of rotation matrices applied to correlated random data, just as illustrated in the next picture.\n",
    "\n",
    "Source: https://en.wikipedia.org/wiki/Principal_component_analysis"
   ]
  },
  {
   "cell_type": "code",
   "execution_count": 48,
   "metadata": {},
   "outputs": [],
   "source": [
    "import numpy as np                         # Linear algebra library\n",
    "import matplotlib.pyplot as plt            # library for visualization\n",
    "from sklearn.decomposition import PCA      # PCA library\n",
    "import pandas as pd                        # Data frame library\n",
    "import math                                # Library for math functions\n",
    "import random                              # Library for pseudo random numbers"
   ]
  },
  {
   "cell_type": "markdown",
   "metadata": {},
   "source": [
    "To start, let us consider a pair of random variables x, y. Consider the base case when y = n * x. The x and y variables will be perfectly correlated to each other since y is just a scaling of x.\n",
    "\n"
   ]
  },
  {
   "cell_type": "code",
   "execution_count": 49,
   "metadata": {},
   "outputs": [
    {
     "data": {
      "image/png": "[encoded data removed]",
      "text/plain": [
       "<Figure size 432x288 with 1 Axes>"
      ]
     },
     "metadata": {
      "needs_background": "light"
     },
     "output_type": "display_data"
    }
   ],
   "source": [
    "# Amount of correlation\n",
    "n = 1\n",
    "# 1000 uniform samples from 1 to 2\n",
    "x = np.random.uniform(1, 2, 1000)\n",
    "y = x.copy()\n",
    "\n",
    "# PCA works better if the data is centered\n",
    "x = x - np.mean(x)\n",
    "y = y - np.mean(y)\n",
    "\n",
    "# Convert to dataframe\n",
    "data = pd.DataFrame({'x': x, 'y': y})\n",
    "plt.scatter(data.x, data.y)\n",
    "\n",
    "# Initialize a PCA. We choose 2 output variables\n",
    "pca = PCA(n_components=2)\n",
    "\n",
    "# Create a transformation model for this data.\n",
    "# It gets the rotatio matrix and the explained variance\n",
    "pcaTr = pca.fit(data)\n",
    "\n",
    "# Transform the data base on the rotation matrix\n",
    "rotatedData = pcaTr.transform(data)\n",
    "# Create a df with the new variables. We will call these PC1 and PC2\n",
    "dataPCA = pd.DataFrame(data = rotatedData, columns = ['PC1', 'PC2'])\n",
    "\n",
    "# Plot the transformed data in orange\n",
    "plt.scatter(dataPCA['PC1'], dataPCA['PC2'], c='orange')\n",
    "plt.show()"
   ]
  },
  {
   "cell_type": "markdown",
   "metadata": {},
   "source": [
    "## Understanding the transformation model pcaTr\n",
    "\n",
    "As mentioned before, a PCA model is composed of a rotation matrix and its corresponding explained variance. In the next module, we will explain the details of the rotation matrices.\n",
    "\n",
    "- pcaTr.components_ has the rotation matrix\n",
    "- pcaTr.explained_variance_ has the explained variance of each principal component"
   ]
  },
  {
   "cell_type": "code",
   "execution_count": 50,
   "metadata": {},
   "outputs": [
    {
     "name": "stdout",
     "output_type": "stream",
     "text": [
      "Eigenvectors or principal components: first row must be in the direction of  [1, n]\n",
      "[[ 0.70710678  0.70710678]\n",
      " [-0.70710678  0.70710678]]\n",
      "Eigenvalues or explained variance\n",
      "[1.69244375e-01 5.38694559e-33]\n"
     ]
    }
   ],
   "source": [
    "print(\"Eigenvectors or principal components: first row must be in the direction of  [1, n]\")\n",
    "print(pcaTr.components_)\n",
    "\n",
    "print(\"Eigenvalues or explained variance\")\n",
    "print(pcaTr.explained_variance_)"
   ]
  },
  {
   "cell_type": "code",
   "execution_count": 51,
   "metadata": {},
   "outputs": [
    {
     "name": "stdout",
     "output_type": "stream",
     "text": [
      "Cosine of 45:  0.7071067811865476\n"
     ]
    }
   ],
   "source": [
    "# Print cosine of 45\n",
    "print(\"Cosine of 45: \", math.cos(math.radians(45)))"
   ]
  },
  {
   "cell_type": "markdown",
   "metadata": {},
   "source": [
    "We can see that the rotation matrix is composed of cosines and sines of 45º.\n",
    "45º is the same angle that form the variable y = 1*x.\n",
    "\n",
    "The PCA has identified the angle in which point the original variables.\n",
    "\n",
    "The explained variance is around [0.166, 0]. Remember that the variance of a uniform random variable is x ~ U(1, 2),\n",
    "which is equal to:\n",
    "\n",
    "Var(x) = ((2 - 1)^2)/12 = 0.083333\n",
    "\n",
    "\n",
    "Then, the explained variance given by the PCA is:\n",
    "\n",
    "[Var(x) + Var(y), 0] = [0.083333 + 0.083333, 0] = [0.166, 0]"
   ]
  },
  {
   "cell_type": "markdown",
   "metadata": {},
   "source": [
    "## Correlated Normal Random Variables.\n",
    "\n",
    "Now, we will use a controlled dataset composed of 2 random variables with different variances and with a specific Covariance among them. The only way I know to get such a dataset is, first, create two independent Normal random variables with the desired variances and then combine them using a rotation matrix. In this way, the new resulting variables will be a linear combination of the original random variables and thus be dependent and correlated."
   ]
  },
  {
   "cell_type": "code",
   "execution_count": 52,
   "metadata": {},
   "outputs": [
    {
     "name": "stdout",
     "output_type": "stream",
     "text": [
      "Angles:  45.0\n",
      "Rotation matrix:  [[ 0.70710678  0.70710678]\n",
      " [-0.70710678  0.70710678]]\n"
     ]
    },
    {
     "data": {
      "image/png": "[encoded data removed]",
      "text/plain": [
       "<Figure size 432x288 with 1 Axes>"
      ]
     },
     "metadata": {
      "needs_background": "light"
     },
     "output_type": "display_data"
    }
   ],
   "source": [
    "import matplotlib.lines as mlines\n",
    "import matplotlib.transforms as mtransforms\n",
    "\n",
    "random.seed(100)\n",
    "\n",
    "# Create 2 sd's of normal distribution\n",
    "std1 = 1\n",
    "std2 = 0.333\n",
    "\n",
    "# 1000 samples for x in N(0, std1) and y in N(0, std2)\n",
    "x = np.random.normal(0, std1, 1000)\n",
    "y = np.random.normal(0, std2, 1000)\n",
    "\n",
    "# Center the data\n",
    "x = x - np.mean(x)\n",
    "y = y - np.mean(y)\n",
    "\n",
    "# Covariance magnitude\n",
    "n = 1\n",
    "# Conver the variance to an angle\n",
    "angle = np.arctan(1/n)\n",
    "print(\"Angles: \", math.degrees(angle))\n",
    "\n",
    "# Create a rotation matrix using the given angle. Use numpy\n",
    "rotationMatrix = np.array([[np.cos(angle), np.sin(angle)], [-np.sin(angle), np.cos(angle)]])\n",
    "print(\"Rotation matrix: \", rotationMatrix)\n",
    "\n",
    "# Create a matrix with columns x and y \n",
    "xy = np.concatenate(([x], [y]), axis=0).T\n",
    "\n",
    "# Transform the data using the rotation matrix.\n",
    "# It correlates the two variables\n",
    "data = np.dot(xy, rotationMatrix)\n",
    "\n",
    "# Plot the rotated data\n",
    "plt.scatter(data[:, 0], data[:, 1])\n",
    "plt.show()"
   ]
  },
  {
   "cell_type": "markdown",
   "metadata": {},
   "source": [
    "Let us print the original and the resulting transformed system using the result of the PCA in the same plot alongside with the 2 Principal Component vectors in red and blue\n",
    "\n"
   ]
  },
  {
   "cell_type": "code",
   "execution_count": 53,
   "metadata": {},
   "outputs": [
    {
     "name": "stdout",
     "output_type": "stream",
     "text": [
      "Eigenvectors\n",
      "[[ 0.71593175  0.69817028]\n",
      " [ 0.69817028 -0.71593175]]\n",
      "Eigenvalues\n",
      "[1.07159961 0.11255613]\n"
     ]
    },
    {
     "data": {
      "text/plain": [
       "[<matplotlib.lines.Line2D at 0x1a6434e1448>]"
      ]
     },
     "execution_count": 53,
     "metadata": {},
     "output_type": "execute_result"
    },
    {
     "data": {
      "image/png": "[encoded data removed]",
      "text/plain": [
       "<Figure size 432x288 with 1 Axes>"
      ]
     },
     "metadata": {
      "needs_background": "light"
     },
     "output_type": "display_data"
    }
   ],
   "source": [
    "plt.scatter(data[:, 0], data[:, 1])\n",
    "\n",
    "# Apply PCA. In theory the Eigenvector matrix must be the \n",
    "# inverse of the original rotationMatrix\n",
    "\n",
    "pcaTr = pca.fit(data)\n",
    "dataPCA = pcaTr.transform(data)\n",
    "\n",
    "print(\"Eigenvectors\")\n",
    "print(pcaTr.components_)\n",
    "print(\"Eigenvalues\")\n",
    "print(pcaTr.explained_variance_)\n",
    "\n",
    "# Plot the rotated data\n",
    "plt.scatter(dataPCA[:, 0], dataPCA[:, 1])\n",
    "\n",
    "# Plot the first component axe.\n",
    "plt.plot([0, pcaTr.components_[0, 0] * std1 * 3], [0, pcaTr.components_[0, 1] * std1 * 3], c='r')\n",
    "# Plot the second component axe.\n",
    "plt.plot([0, pcaTr.components_[1, 0] * std2 * 3], [0, pcaTr.components_[1, 1] * std2 * 3], c='b')"
   ]
  },
  {
   "cell_type": "markdown",
   "metadata": {},
   "source": [
    "The explanation of this chart is as follows:\n",
    "\n",
    "- The rotation matrix used to create our correlated variables took the original uncorrelated variables x and y and transformed them into the blue points.\n",
    "- The PCA transformation finds out the rotation matrix used to create our correlated variables (blue points). Using the PCA model to transform our data, puts back the variables as our original uncorrelated variables.\n",
    "- The explained Variance of the PCA is [0.9965, 0.1086] which\n",
    "is approximately\n",
    "[1, 0.333 * 0.333] = [std1, std2]"
   ]
  },
  {
   "cell_type": "markdown",
   "metadata": {},
   "source": [
    "## PCA as a strategy for dimensionality reduction\n",
    "\n",
    "The principal components contained in the rotation matrix, are decreasingly sorted depending on its explained Variance. It usually means that the first components retain most of the power of the data to explain the patterns that generalize the data. Nevertheless, for some applications, we are interested in the patterns that explain much less Variance, for example, in novelty detection.\n",
    "\n",
    "In the next figure, we can see the original data and its corresponding projection over the first and second principal components. In other words, data comprised of a single variable."
   ]
  },
  {
   "cell_type": "code",
   "execution_count": 54,
   "metadata": {},
   "outputs": [
    {
     "data": {
      "text/plain": [
       "<matplotlib.collections.PathCollection at 0x1a64356a1c8>"
      ]
     },
     "execution_count": 54,
     "metadata": {},
     "output_type": "execute_result"
    },
    {
     "data": {
      "image/png": "[encoded data removed]",
      "text/plain": [
       "<Figure size 432x288 with 1 Axes>"
      ]
     },
     "metadata": {
      "needs_background": "light"
     },
     "output_type": "display_data"
    }
   ],
   "source": [
    "nPoints = len(data)\n",
    "\n",
    "# Plot the original data in blue\n",
    "plt.scatter(data[:, 0], data[:, 1], c='b')\n",
    "\n",
    "# Plot the projection along the first component axe.\n",
    "plt.scatter(data[:, 0], np.zeros(nPoints), c='r')\n",
    "# Plot the projection along the second component axe.\n",
    "plt.scatter(np.zeros(nPoints), data[:, 1], c='g')"
   ]
  }
 ],
 "metadata": {
  "kernelspec": {
   "display_name": "Python 3.7.13 ('nlp')",
   "language": "python",
   "name": "python3"
  },
  "language_info": {
   "codemirror_mode": {
    "name": "ipython",
    "version": 3
   },
   "file_extension": ".py",
   "mimetype": "text/x-python",
   "name": "python",
   "nbconvert_exporter": "python",
   "pygments_lexer": "ipython3",
   "version": "3.7.13"
  },
  "orig_nbformat": 4,
  "vscode": {
   "interpreter": {
    "hash": "aeb7f191f0e35c9beeb8ff0cea8f72192bbcb4fd900e19ae06dfc5abae03ecc9"
   }
  }
 },
 "nbformat": 4,
 "nbformat_minor": 2
}
