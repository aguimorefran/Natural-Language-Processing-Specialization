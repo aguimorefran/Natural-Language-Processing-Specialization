{
 "cells": [
  {
   "cell_type": "markdown",
   "metadata": {},
   "source": [
    "# Course 1: Classification and Vector Spaces\n",
    "# Week 1: Logistic Regression for Sentiment Analysis of Tweets\n",
    "## Own project: Analyzing the sentiment of my own tweets"
   ]
  },
  {
   "cell_type": "markdown",
   "metadata": {},
   "source": [
    "## Download my own tweets"
   ]
  },
  {
   "cell_type": "code",
   "execution_count": 1,
   "metadata": {},
   "outputs": [],
   "source": [
    "%%capture\n",
    "%run assignment.ipynb"
   ]
  },
  {
   "cell_type": "code",
   "execution_count": 2,
   "metadata": {},
   "outputs": [],
   "source": [
    "import tweepy\n",
    "import json"
   ]
  },
  {
   "cell_type": "code",
   "execution_count": 3,
   "metadata": {},
   "outputs": [],
   "source": [
    "# Load Twitter credentials\n",
    "api_keys = json.load(open('twitter-api-keys.local.json'))\n",
    "bearer_token = api_keys[\"bearer_token\"]\n",
    "client = tweepy.Client(\n",
    "    bearer_token=api_keys['bearer_token'], wait_on_rate_limit=True)\n",
    "\n",
    "auth = tweepy.OAuthHandler(\n",
    "    consumer_key=api_keys['api_key'],\n",
    "    consumer_secret=api_keys['api_key_secret'],\n",
    "    access_token=api_keys['access_token'],\n",
    "    access_token_secret=api_keys['access_token_secret'])\n",
    "api = tweepy.API(auth, wait_on_rate_limit=True)"
   ]
  },
  {
   "cell_type": "code",
   "execution_count": 4,
   "metadata": {},
   "outputs": [],
   "source": [
    "me = \"fcx_xm\"\n",
    "tweets = api.user_timeline(screen_name=me, count=1000)\n",
    "tweet_text = [tweet.text for tweet in tweets]"
   ]
  },
  {
   "cell_type": "markdown",
   "metadata": {},
   "source": [
    "## Creating preprocessing functions for Spanish tweets"
   ]
  },
  {
   "cell_type": "code",
   "execution_count": 5,
   "metadata": {},
   "outputs": [
    {
     "data": {
      "text/plain": [
       "True"
      ]
     },
     "execution_count": 5,
     "metadata": {},
     "output_type": "execute_result"
    }
   ],
   "source": [
    "import unidecode\n",
    "import nltk\n",
    "from nltk.stem import SnowballStemmer\n",
    "from nltk.tokenize import word_tokenize\n",
    "stemmer = SnowballStemmer(\"spanish\")\n",
    "\n",
    "nltk.download('punkt')"
   ]
  },
  {
   "cell_type": "code",
   "execution_count": 6,
   "metadata": {},
   "outputs": [],
   "source": [
    "# String cleaning function\n",
    "def clean_string(string):\n",
    "    \"\"\"\n",
    "    Input:\n",
    "        - string: a string to be cleaned\n",
    "    Output:\n",
    "        - cleaned_string: a clean string with the following actions:\n",
    "            - lowercase\n",
    "            - remove punctuation\n",
    "            - remove URLs, hashtags, mentions\n",
    "    \"\"\"\n",
    "    string = re.sub(r'http\\S+', '', string)\n",
    "    string = re.sub(r'RT', '', string)\n",
    "    string = re.sub(r'@\\S+', '', string)\n",
    "    string = re.sub(r'#', '', string)\n",
    "    string = re.sub(r'[^\\w\\s]', '', string)\n",
    "    string = string.lower()\n",
    "    string = unidecode.unidecode(string)\n",
    "\n",
    "    return string"
   ]
  },
  {
   "cell_type": "code",
   "execution_count": 7,
   "metadata": {},
   "outputs": [],
   "source": [
    "# Tokenize function\n",
    "def tokenize(string):\n",
    "    \"\"\"\n",
    "    Input:\n",
    "        - string: a string to be tokenized\n",
    "    Output:\n",
    "        - tokens: a list of tokens\n",
    "    \"\"\"\n",
    "    tokens = word_tokenize(string)\n",
    "\n",
    "    return tokens"
   ]
  },
  {
   "cell_type": "code",
   "execution_count": 8,
   "metadata": {},
   "outputs": [],
   "source": [
    "# Remove spanish stopwords function\n",
    "def remove_stopwords(tokens):\n",
    "    \"\"\"\n",
    "    Input:\n",
    "        - tokens: a list of tokens\n",
    "    Output:\n",
    "        - tokens: a list of tokens without stopwords\n",
    "    \"\"\"\n",
    "    stopwords = nltk.corpus.stopwords.words('spanish')\n",
    "    tokens = [token for token in tokens if token not in stopwords]\n",
    "\n",
    "    return tokens"
   ]
  },
  {
   "cell_type": "code",
   "execution_count": 9,
   "metadata": {},
   "outputs": [],
   "source": [
    "# Stem function for spanish\n",
    "def stem(tokens):\n",
    "    \"\"\"\n",
    "    Input:\n",
    "        - tokens: a list of tokens\n",
    "    Output:\n",
    "        - tokens: a list of stems\n",
    "    \"\"\"\n",
    "    stems = [stemmer.stem(token) for token in tokens]\n",
    "\n",
    "    return stems"
   ]
  },
  {
   "cell_type": "code",
   "execution_count": 10,
   "metadata": {},
   "outputs": [
    {
     "name": "stdout",
     "output_type": "stream",
     "text": [
      "Original text:\n",
      "RT @nocontextfooty: https://t.co/OIbP4I2vrq\n",
      "Cleaned text:\n",
      "  \n",
      "Tokenized text:\n",
      "[]\n",
      "Removed stopwords:\n",
      "[]\n",
      "Stemmed text:\n",
      "[]\n"
     ]
    }
   ],
   "source": [
    "# Show transformation progress\n",
    "print('Original text:')\n",
    "print(tweet_text[0])\n",
    "print('Cleaned text:')\n",
    "print(clean_string(tweet_text[0]))\n",
    "print('Tokenized text:')\n",
    "print(tokenize(clean_string(tweet_text[0])))\n",
    "print('Removed stopwords:')\n",
    "print(remove_stopwords(tokenize(clean_string(tweet_text[0]))))\n",
    "print('Stemmed text:')\n",
    "print(stem(remove_stopwords(tokenize(clean_string(tweet_text[0])))))"
   ]
  },
  {
   "cell_type": "code",
   "execution_count": 11,
   "metadata": {},
   "outputs": [],
   "source": [
    "# Entire process of the string\n",
    "def process_text(tweet):\n",
    "    \"\"\"\n",
    "    Input:\n",
    "        - tweet: a string to be processed\n",
    "    Output:\n",
    "        - tokens: a list of tokens\n",
    "    \"\"\"\n",
    "    tweet = clean_string(tweet)\n",
    "    tokens = tokenize(tweet)\n",
    "    tokens = remove_stopwords(tokens)\n",
    "    tokens = stem(tokens)\n",
    "\n",
    "    return tokens"
   ]
  },
  {
   "cell_type": "code",
   "execution_count": 12,
   "metadata": {},
   "outputs": [
    {
     "name": "stdout",
     "output_type": "stream",
     "text": [
      "[[], ['penit', 'pon', 'oakleys', 'antigu', 'gt60e', 'on', 'god'], ['fr'], ['obsess', 'with', 'whoev', 'saw', 'gum', 'on', 'sidewalk', 'and', 'was', 'lik', 'let', 'add', 'this', 'to', 'the', 'poisson', 'distribution', 'wikipedi', 'articl'], []]\n"
     ]
    }
   ],
   "source": [
    "# Processed tweets\n",
    "processed_tweets = [process_text(tweet) for tweet in tweet_text]\n",
    "print(processed_tweets[:5])"
   ]
  },
  {
   "cell_type": "markdown",
   "metadata": {},
   "source": [
    "## Getting data for spanish positivity and negativity\n",
    "\n",
    "I will be using a dataset of positive and negative texts.\n",
    "\n",
    "URL: https://www.kaggle.com/datasets/luisdiegofv97/imdb-dataset-of-50k-movie-reviews-spanish?select=IMDB+Dataset+SPANISH.csv"
   ]
  },
  {
   "cell_type": "code",
   "execution_count": 13,
   "metadata": {},
   "outputs": [],
   "source": [
    "import pandas"
   ]
  },
  {
   "cell_type": "code",
   "execution_count": 14,
   "metadata": {},
   "outputs": [],
   "source": [
    "# Load the imdb_dataset.csv\n",
    "# Keep columns review_es, sentimiento. In sentimiento, replace \"positivo\" with 1 and \"negativo\" with 0\n",
    "# data = pandas.read_csv('imdb_dataset.csv')\n",
    "# data = data[['review_es', 'sentimiento']]\n",
    "# data.sentimiento = data.sentimiento.replace(['positivo', 'negativo'], [1, 0])\n",
    "\n",
    "# Once the dataset has been cleaned\n",
    "data = pandas.read_csv('imdb_dataset_processed.csv')\n"
   ]
  },
  {
   "cell_type": "code",
   "execution_count": 15,
   "metadata": {},
   "outputs": [],
   "source": [
    "# Save data in a new csv file\n",
    "# data.to_csv('imdb_dataset_processed.csv', index=False)"
   ]
  },
  {
   "cell_type": "code",
   "execution_count": 16,
   "metadata": {},
   "outputs": [
    {
     "name": "stdout",
     "output_type": "stream",
     "text": [
      "                                           review_es  sentimiento\n",
      "0  Uno de los otros críticos ha mencionado que de...            1\n",
      "1  Una pequeña pequeña producción.La técnica de f...            1\n",
      "2  Pensé que esta era una manera maravillosa de p...            1\n",
      "3  Básicamente, hay una familia donde un niño peq...            0\n",
      "4  El \"amor en el tiempo\" de Petter Mattei es una...            1\n",
      "50000\n",
      "50000\n"
     ]
    }
   ],
   "source": [
    "# Create x and y lists\n",
    "x = data.review_es\n",
    "y = data.sentimiento\n",
    "\n",
    "# Print head 5 and len of both\n",
    "print(data.head(5))\n",
    "print(len(x))\n",
    "print(len(y))\n"
   ]
  },
  {
   "cell_type": "code",
   "execution_count": 17,
   "metadata": {},
   "outputs": [],
   "source": [
    "# Create frequency distribution of the words in the reviews\n",
    "\n",
    "def build_freqs(train_x, train_y):\n",
    "    \"\"\"\n",
    "    Input:\n",
    "        - train_x: the list of reviews\n",
    "        - train_y: the list of labels\n",
    "    Output:\n",
    "        - freqs: a dictionary with the frequency of each word in the reviews\n",
    "\n",
    "    Dictionary structure:\n",
    "    {\n",
    "        'word1': {\n",
    "            'positive': int,\n",
    "            'negative': int\n",
    "    }\n",
    "    \"\"\"\n",
    "\n",
    "    freqs = {}\n",
    "    for i in tqdm(range(len(train_x))):\n",
    "        tokens = process_text(train_x[i])\n",
    "        label = train_y[i]\n",
    "\n",
    "        for token in tokens:\n",
    "            if token not in freqs:\n",
    "                freqs[token] = {'positive': 0, 'negative': 0}\n",
    "            if label == 1:\n",
    "                freqs[token]['positive'] += 1\n",
    "            else:\n",
    "                freqs[token]['negative'] += 1\n",
    "\n",
    "\n",
    "    return freqs"
   ]
  },
  {
   "cell_type": "code",
   "execution_count": 18,
   "metadata": {},
   "outputs": [],
   "source": [
    "# Freq dict creation takes around 10 minutes. Save it to a file and load it later if it exists\n",
    "import os\n",
    "if os.path.exists('freqs.json'):\n",
    "    freqs = json.load(open('freqs.json'))\n",
    "else:\n",
    "    freqs = build_freqs(x, y)\n",
    "    json.dump(freqs, open('freqs.json', 'w'))"
   ]
  },
  {
   "cell_type": "code",
   "execution_count": 19,
   "metadata": {},
   "outputs": [
    {
     "name": "stdout",
     "output_type": "stream",
     "text": [
      "[('pelicul', {'positive': 82967, 'negative': 90708}), ('mas', {'positive': 30251, 'negative': 27598}), ('the', {'positive': 29416, 'negative': 24283}), ('si', {'positive': 17832, 'negative': 22850}), ('hac', {'positive': 18234, 'negative': 19785}), ('pued', {'positive': 17054, 'negative': 18046}), ('sol', {'positive': 14071, 'negative': 17358}), ('buen', {'positive': 15215, 'negative': 15671}), ('ser', {'positive': 13122, 'negative': 15108}), ('histori', {'positive': 15469, 'negative': 12110})]\n",
      "<class 'dict'>\n",
      "218950\n"
     ]
    }
   ],
   "source": [
    "# Show sorted list of words and their frequencies\n",
    "print(sorted(freqs.items(), key=lambda x: x[1]['positive'] + x[1]['negative'], reverse=True)[:10])\n",
    "print(type(freqs))\n",
    "print(len(freqs))"
   ]
  },
  {
   "cell_type": "markdown",
   "metadata": {},
   "source": [
    "### Train and test data"
   ]
  },
  {
   "cell_type": "code",
   "execution_count": 20,
   "metadata": {},
   "outputs": [
    {
     "name": "stdout",
     "output_type": "stream",
     "text": [
      "40000\n",
      "40000\n",
      "10000\n",
      "10000\n"
     ]
    }
   ],
   "source": [
    "# Create train and test datasets\n",
    "train_x = x[:int(len(x) * 0.8)]\n",
    "train_y = y[:int(len(y) * 0.8)]\n",
    "test_x = x[int(len(x) * 0.8):]\n",
    "test_y = y[int(len(y) * 0.8):]\n",
    "\n",
    "# Print len of all\n",
    "print(len(train_x))\n",
    "print(len(train_y))\n",
    "print(len(test_x))\n",
    "print(len(test_y))"
   ]
  },
  {
   "cell_type": "markdown",
   "metadata": {},
   "source": [
    "### Sigmoid, gradient descent, feature extraction, and logistic regression"
   ]
  },
  {
   "cell_type": "code",
   "execution_count": 21,
   "metadata": {},
   "outputs": [],
   "source": [
    "# Sigmoid function\n",
    "def sigmoid(x):\n",
    "    \"\"\"\n",
    "    Input:\n",
    "        - x: a number\n",
    "    Output:\n",
    "        - sigmoid: the sigmoid of x\n",
    "    \"\"\"\n",
    "    sigmoid = 1 / (1 + np.exp(-x))\n",
    "\n",
    "    return sigmoid"
   ]
  },
  {
   "cell_type": "code",
   "execution_count": 22,
   "metadata": {},
   "outputs": [],
   "source": [
    "def gradient_descent(x, y, theta, alpha, num_iters):\n",
    "    '''\n",
    "    Input:\n",
    "        x: matrix of features which is (m,n+1)\n",
    "        y: corresponding labels of the input matrix x, dimensions (m,1)\n",
    "        theta: weight vector of dimension (n+1,1)\n",
    "        alpha: learning rate\n",
    "        num_iters: number of iterations you want to train your model for\n",
    "    Output:\n",
    "        J: the final cost\n",
    "        theta: your final weight vector\n",
    "    Hint: you might want to print the cost to make sure that it is going down.\n",
    "    '''\n",
    "    # get 'm', the number of rows in matrix x\n",
    "\n",
    "    J_history = []\n",
    "\n",
    "    m = x.shape[0]\n",
    "    \n",
    "    for i in tqdm(range(0, num_iters)):\n",
    "        \n",
    "        # get z, the dot product of x and theta\n",
    "        z = np.dot(x,theta)\n",
    "        \n",
    "        # get the sigmoid of z\n",
    "        h = sigmoid(z)\n",
    "        \n",
    "        # calculate the cost function\n",
    "        J = -1./m * (np.dot(y.transpose(), np.log(h)) + np.dot((1-y).transpose(),np.log(1-h)))    \n",
    "\n",
    "        # update the weights theta\n",
    "        theta = theta - (alpha/m) * np.dot(x.transpose(),(h-y))\n",
    "\n",
    "        # append the cost to the list\n",
    "        J_history.append(J)\n",
    "\n",
    "    # Flatten the list of costs into a 1D array\n",
    "    J_history = np.array(J_history).flatten()\n",
    "\n",
    "    return J_history, theta"
   ]
  },
  {
   "cell_type": "code",
   "execution_count": 34,
   "metadata": {},
   "outputs": [],
   "source": [
    "import cupy as cp\n",
    "# gradient descent function using cupy \n",
    "def gradient_descent_cupy(x, y, theta, alpha, num_iters):\n",
    "    '''\n",
    "    Input:\n",
    "        x: matrix of features which is (m,n+1)\n",
    "        y: corresponding labels of the input matrix x, dimensions (m,1)\n",
    "        theta: weight vector of dimension (n+1,1)\n",
    "        alpha: learning rate\n",
    "        num_iters: number of iterations you want to train your model for\n",
    "    Output:\n",
    "        J: the final cost\n",
    "        theta: your final weight vector\n",
    "    Hint: you might want to print the cost to make sure that it is going down.\n",
    "    '''\n",
    "    # get 'm', the number of rows in matrix x\n",
    "\n",
    "    J_history = []\n",
    "\n",
    "    m = x.shape[0]\n",
    "    \n",
    "    for i in tqdm(range(0, num_iters)):\n",
    "        \n",
    "        # get z, the dot product of x and theta\n",
    "        z = cp.dot(x,theta)\n",
    "        \n",
    "        # get the sigmoid of z\n",
    "        h = sigmoid(z)\n",
    "        \n",
    "        # calculate the cost function\n",
    "        y_cupy = cp.array(y)\n",
    "        h_cupy = cp.array(h)\n",
    "        J = -1./m * (cp.dot(y_cupy.transpose(), cp.log(h_cupy)) + cp.dot((1-y_cupy).transpose(),cp.log(1-h_cupy)))\n",
    "\n",
    "        # update the weights theta\n",
    "        theta = theta - (alpha/m) * cp.dot(x.transpose(),(h-y))\n",
    "\n",
    "        # append the cost to the list\n",
    "        J_history.append(J)\n",
    "\n",
    "    # Flatten the list using cupy\n",
    "    # Implicit conversion to a NumPy array is not allowed. Please use `.get()` to construct a NumPy array explicitly.\n",
    "    J_history = cp.array(J_history).get().flatten()\n",
    "    \n",
    "    return J_history, theta"
   ]
  },
  {
   "cell_type": "code",
   "execution_count": 24,
   "metadata": {},
   "outputs": [],
   "source": [
    "# Feature extraction function\n",
    "def feature_extraction(text, freqs):\n",
    "    \"\"\"\n",
    "    Input:\n",
    "        - word: a text\n",
    "        - freqs: a dictionary with the frequency of each word in the reviews\n",
    "    Output:\n",
    "        - features: an array of (1, 3) with the following features:\n",
    "            - 1 = 1\n",
    "            - 2 = frequency of the tokens in the positive reviews\n",
    "            - 3 = frequency of the tokens in the negative reviews\n",
    "    \"\"\"\n",
    "    features = np.zeros((1, 3))\n",
    "    features[0, 0] = 1\n",
    "    tokens = process_text(text)\n",
    "    for token in tokens:\n",
    "        features[0][1] += freqs[token]['positive']\n",
    "        features[0][2] += freqs[token]['negative']\n",
    "\n",
    "    assert(features.shape == (1, 3))\n",
    "    return features"
   ]
  },
  {
   "cell_type": "code",
   "execution_count": 25,
   "metadata": {},
   "outputs": [
    {
     "name": "stdout",
     "output_type": "stream",
     "text": [
      "Feature extraction with 5 random reviews:\n",
      "Review: Este es un esfuerzo decente, pero el tipo que escribió el guión parece estar un poco en la oscuridad en cuanto a lo que hace que una película de zombies sea fresca.No, no son errores de CGI y compañías de software.En realidad, no estoy seguro de si era una compañía de software, lo vi sin subtítulos, así que tuve que adivinar de qué están hablando.De todos modos, mi punto era, en lugar de desperdiciar tu tiempo animando algún error tonto, por qué no lanzar más zombies y más acción.2/3 de los 20 minutos consisten en boletines de noticias, insectos, algunos chicos que gritan sobre algo.Y para empeorar las cosas (más aburridas), la mayoría de las muertes ocurren fuera de la pantalla.Me doy cuenta de que todo es demasiado común para las películas sin presupuesto, pero luego hubo algunos efectos muy impresionantes (bueno, tipo-a de) que me dejó preguntarme por qué el director (o guionista, lo que sea) eligió centrarse en cómo comenzó la epidemia.- Es un corto, nadie va a cuidar de todos modos.\n",
      "Features: [[1.00000e+00 4.39047e+05 4.87794e+05]]\n",
      "Review: Otro comentario sobre esta película lo hizo sonar pésimo.Dadas las imágenes que hablan eran tan nuevas, creo que el guión y la actuación eran buenos.Davis era tan joven y fresco.Ella aún no había encontrado su propio estilo que hemos crecido para esperar.Sin embargo, es genial verla de esta manera, todavía aprendiendo la artesanía. Muchos clichés vinieron de esta película y parece que esta película ardió algunos senderos durante los próximos 70 años.Mi voto es verlo y recuerda lo joven que era este tipo de película.Manténgase y abre la mente y quizás te sorprendió lo molestado en lo que estaban en esta imagen, por ser de 1934 y cómo vemos la primera parte del siglo pasado tan contento. Me encanta y espero que te invadieran sobre eso no influenciado.por otros negativos y una nota comenta.\n",
      "Features: [[1.00000e+00 4.33131e+05 4.62392e+05]]\n"
     ]
    }
   ],
   "source": [
    "# Test feature extraction with 5 random reviews\n",
    "print('Feature extraction with 5 random reviews:')\n",
    "idx = np.random.randint(0, len(x), 2)\n",
    "for i in idx:\n",
    "    print(\"Review:\", x[i])\n",
    "    print(\"Features:\", feature_extraction(x[i], freqs))"
   ]
  },
  {
   "cell_type": "code",
   "execution_count": 26,
   "metadata": {},
   "outputs": [
    {
     "name": "stdout",
     "output_type": "stream",
     "text": [
      "[[1. 0. 0.]]\n"
     ]
    }
   ],
   "source": [
    "# Example using invented words that should not appear in the reviews (to test the feature extraction)\n",
    "print(extract_feature(\"pium piam\", freqs))"
   ]
  },
  {
   "cell_type": "code",
   "execution_count": 35,
   "metadata": {},
   "outputs": [
    {
     "name": "stdout",
     "output_type": "stream",
     "text": [
      "0.5\n",
      "0.7310585786300049\n"
     ]
    },
    {
     "data": {
      "application/vnd.jupyter.widget-view+json": {
       "model_id": "0023bc45982d42f18e4271d1a1518864",
       "version_major": 2,
       "version_minor": 0
      },
      "text/plain": [
       "  0%|          | 0/1000 [00:00<?, ?it/s]"
      ]
     },
     "metadata": {},
     "output_type": "display_data"
    },
    {
     "name": "stdout",
     "output_type": "stream",
     "text": [
      "Cost: 0.49280449604074006\n",
      "Theta: [[-1.20844485]\n",
      " [ 0.21337896]\n",
      " [ 0.06880041]]\n"
     ]
    },
    {
     "data": {
      "text/plain": [
       "[<matplotlib.lines.Line2D at 0x2712d0c2648>]"
      ]
     },
     "execution_count": 35,
     "metadata": {},
     "output_type": "execute_result"
    },
    {
     "data": {
      "image/png": "[encoded data removed]",
      "text/plain": [
       "<Figure size 432x288 with 1 Axes>"
      ]
     },
     "metadata": {
      "needs_background": "light"
     },
     "output_type": "display_data"
    }
   ],
   "source": [
    "# Test sigmoid and gradient\n",
    "print(sigmoid(0))\n",
    "print(sigmoid(1))\n",
    "\n",
    "tmp_x = np.append(np.ones((10, 1)), np.random.randn(10, 2), axis=1)\n",
    "tmp_x\n",
    "tmp_y = (np.random.randn(10, 1) > 0.35).astype(float)\n",
    "tmp_y\n",
    "\n",
    "tmp_J, tmp_theta = gradient_descent_cupy(tmp_x, tmp_y, np.zeros((3, 1)), 0.01, 1000)\n",
    "print(\"Cost:\", tmp_J[-1]) \n",
    "print(\"Theta:\", tmp_theta)\n",
    "\n",
    "# Plot the cost function\n",
    "plt.plot(tmp_J)"
   ]
  },
  {
   "cell_type": "code",
   "execution_count": 36,
   "metadata": {},
   "outputs": [
    {
     "data": {
      "application/vnd.jupyter.widget-view+json": {
       "model_id": "5c4a26001f024cd69ce086bcfcdf2150",
       "version_major": 2,
       "version_minor": 0
      },
      "text/plain": [
       "  0%|          | 0/40000 [00:00<?, ?it/s]"
      ]
     },
     "metadata": {},
     "output_type": "display_data"
    }
   ],
   "source": [
    "# Extract the features from the training set\n",
    "X = np.zeros((len(train_x), 3))\n",
    "for i in tqdm(range(len(train_x))):\n",
    "    X[i, :] = feature_extraction(train_x[i], freqs)\n"
   ]
  },
  {
   "cell_type": "code",
   "execution_count": 37,
   "metadata": {},
   "outputs": [],
   "source": [
    "# Y is array of dim (1, len(train_y)), filled with train_y. Flatten it into a 1D array\n",
    "Y = np.array(train_y).flatten()"
   ]
  },
  {
   "cell_type": "code",
   "execution_count": 38,
   "metadata": {},
   "outputs": [
    {
     "data": {
      "application/vnd.jupyter.widget-view+json": {
       "model_id": "e31dd0a3555041a59ae811324d7bd15b",
       "version_major": 2,
       "version_minor": 0
      },
      "text/plain": [
       "  0%|          | 0/1000 [00:00<?, ?it/s]"
      ]
     },
     "metadata": {},
     "output_type": "display_data"
    }
   ],
   "source": [
    "J, theta = gradient_descent_cupy(X, Y, np.zeros((3, 1)), 1e-3, 1000)"
   ]
  },
  {
   "cell_type": "code",
   "execution_count": null,
   "metadata": {},
   "outputs": [],
   "source": [
    "# Print cost and theta\n",
    "print(\"Training cost:\", J[-1])\n",
    "print(\"Final weight vectors:\", theta)"
   ]
  }
 ],
 "metadata": {
  "kernelspec": {
   "display_name": "Python 3.7.13 ('nlp')",
   "language": "python",
   "name": "python3"
  },
  "language_info": {
   "codemirror_mode": {
    "name": "ipython",
    "version": 3
   },
   "file_extension": ".py",
   "mimetype": "text/x-python",
   "name": "python",
   "nbconvert_exporter": "python",
   "pygments_lexer": "ipython3",
   "version": "3.7.13"
  },
  "orig_nbformat": 4,
  "vscode": {
   "interpreter": {
    "hash": "84be8c82a7a3e86db451810d88cd8e67624a6eca0a3f1ff4d59d995ee7a917f6"
   }
  }
 },
 "nbformat": 4,
 "nbformat_minor": 2
}
