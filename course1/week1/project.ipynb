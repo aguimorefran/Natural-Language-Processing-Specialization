{
 "cells": [
  {
   "cell_type": "markdown",
   "metadata": {},
   "source": [
    "# Course 1: Classification and Vector Spaces\n",
    "# Own project 1: Classifying positivity on my own tweets\n",
    "\n",
    "In this notebook I will apply the knowledge I gained from the previous notebooks to classify tweets as positive or negative on my own data."
   ]
  },
  {
   "cell_type": "markdown",
   "metadata": {},
   "source": [
    "## Libraries"
   ]
  },
  {
   "cell_type": "code",
   "execution_count": 1,
   "metadata": {},
   "outputs": [],
   "source": [
    "import nltk\n",
    "import numpy as np\n",
    "import pandas as pd \n",
    "import tweepy\n",
    "import json\n",
    "import os\n",
    "import re\n",
    "import pickle\n",
    "\n",
    "import unidecode\n",
    "import matplotlib.pyplot as plt\n",
    "\n",
    "from nltk.corpus import stopwords\n",
    "from nltk.corpus import twitter_samples\n",
    "\n",
    "from tqdm.notebook import tqdm"
   ]
  },
  {
   "cell_type": "markdown",
   "metadata": {},
   "source": [
    "## Prepare the data"
   ]
  },
  {
   "cell_type": "markdown",
   "metadata": {},
   "source": [
    "### Own tweets\n",
    "These tweets will be the data where I will make predictions."
   ]
  },
  {
   "cell_type": "code",
   "execution_count": 2,
   "metadata": {},
   "outputs": [],
   "source": [
    "me = \"fcx_xm\"\n",
    "\n",
    "with open(\"twitter-api-keys.local.json\") as f:\n",
    "    keys = json.load(f)\n",
    "    api_key = keys[\"api_key\"]\n",
    "    api_key_secret = keys[\"api_key_secret\"]\n",
    "    access_token = keys[\"access_token\"]\n",
    "    access_token_secret = keys[\"access_token_secret\"]\n",
    "    bearer_token = keys[\"bearer_token\"]\n",
    "\n",
    "# Get my latest 200 tweets\n",
    "auth = tweepy.OAuthHandler(api_key, api_key_secret)\n",
    "auth.set_access_token(access_token, access_token_secret)\n",
    "api = tweepy.API(auth, wait_on_rate_limit=True)\n",
    "\n",
    "tweets = api.user_timeline(screen_name=me, count=200, tweet_mode=\"extended\", include_rts=False)"
   ]
  },
  {
   "cell_type": "code",
   "execution_count": 35,
   "metadata": {},
   "outputs": [
    {
     "data": {
      "application/vnd.jupyter.widget-view+json": {
       "model_id": "23452165acaf481cbfad33403c8260be",
       "version_major": 2,
       "version_minor": 0
      },
      "text/plain": [
       "0it [00:00, ?it/s]"
      ]
     },
     "metadata": {},
     "output_type": "display_data"
    }
   ],
   "source": [
    "# If tweets.pkl exists, load it. Otherwise, save the tweets to tweets.pkl\n",
    "if os.path.exists(\"tweets.pkl\"):\n",
    "    with open(\"tweets.pkl\", \"rb\") as f:\n",
    "        tweets = pickle.load(f)\n",
    "else:\n",
    "    limit = 20000\n",
    "    tweet_cursor = tweepy.Cursor(api.user_timeline, screen_name=me, count=200, tweet_mode=\"extended\", include_rts=False).items(limit)\n",
    "    tweets = []\n",
    "    for tweet in tqdm(tweet_cursor):\n",
    "        tweets.append(tweet)\n",
    "    with open(\"tweets.pkl\", \"wb\") as f:\n",
    "        pickle.dump(tweets, f)"
   ]
  },
  {
   "cell_type": "code",
   "execution_count": 4,
   "metadata": {},
   "outputs": [
    {
     "name": "stdout",
     "output_type": "stream",
     "text": [
      "<class 'list'>\n",
      "2174\n",
      "https://t.co/ABinyaONLl\n",
      "\n",
      "\n",
      "https://t.co/ZmlKKfHmhT\n",
      "\n",
      "\n",
      "me estan dejando de encajar los piños qiza es hora de ponerse el retenedor dsps de mmm nose 5 meses\n",
      "\n",
      "\n",
      "qe te calles 7 veces pollasucia https://t.co/T9x5JDNAmi\n",
      "\n",
      "\n",
      "tengo q ir a renovar el dnie plan de viernes tarde 😳😋\n",
      "\n",
      "\n"
     ]
    }
   ],
   "source": [
    "# Type, len\n",
    "print(type(tweets))\n",
    "print(len(tweets))\n",
    "\n",
    "# Print 5 random tweets\n",
    "for tweet in np.random.choice(tweets, 5):\n",
    "    print(tweet.full_text)\n",
    "    print(\"\\n\")"
   ]
  },
  {
   "cell_type": "markdown",
   "metadata": {},
   "source": [
    "### Training data\n",
    "\n",
    "A IMDB dataset will be used to train the model. It contains reviews of movies and their sentiment."
   ]
  },
  {
   "cell_type": "code",
   "execution_count": 5,
   "metadata": {},
   "outputs": [],
   "source": [
    "# Load IMDB_clean.csv\n",
    "imdb_df = pd.read_csv(\"IMDB_clean.csv\")\n",
    "# In review_es, transform \"positivo\" to 1 and \"negativo\" to 0 in column sentimiento\n",
    "imdb_df[\"sentimiento\"] = imdb_df[\"sentimiento\"].replace({\"positivo\": 1, \"negativo\": 0})"
   ]
  },
  {
   "cell_type": "code",
   "execution_count": 6,
   "metadata": {},
   "outputs": [
    {
     "data": {
      "text/html": [
       "<div>\n",
       "<style scoped>\n",
       "    .dataframe tbody tr th:only-of-type {\n",
       "        vertical-align: middle;\n",
       "    }\n",
       "\n",
       "    .dataframe tbody tr th {\n",
       "        vertical-align: top;\n",
       "    }\n",
       "\n",
       "    .dataframe thead th {\n",
       "        text-align: right;\n",
       "    }\n",
       "</style>\n",
       "<table border=\"1\" class=\"dataframe\">\n",
       "  <thead>\n",
       "    <tr style=\"text-align: right;\">\n",
       "      <th></th>\n",
       "      <th>review_es</th>\n",
       "      <th>sentimiento</th>\n",
       "    </tr>\n",
       "  </thead>\n",
       "  <tbody>\n",
       "    <tr>\n",
       "      <th>0</th>\n",
       "      <td>Uno de los otros críticos ha mencionado que de...</td>\n",
       "      <td>1</td>\n",
       "    </tr>\n",
       "    <tr>\n",
       "      <th>1</th>\n",
       "      <td>Una pequeña pequeña producción.La técnica de f...</td>\n",
       "      <td>1</td>\n",
       "    </tr>\n",
       "    <tr>\n",
       "      <th>2</th>\n",
       "      <td>Pensé que esta era una manera maravillosa de p...</td>\n",
       "      <td>1</td>\n",
       "    </tr>\n",
       "    <tr>\n",
       "      <th>3</th>\n",
       "      <td>Básicamente, hay una familia donde un niño peq...</td>\n",
       "      <td>0</td>\n",
       "    </tr>\n",
       "    <tr>\n",
       "      <th>4</th>\n",
       "      <td>El \"amor en el tiempo\" de Petter Mattei es una...</td>\n",
       "      <td>1</td>\n",
       "    </tr>\n",
       "  </tbody>\n",
       "</table>\n",
       "</div>"
      ],
      "text/plain": [
       "                                           review_es  sentimiento\n",
       "0  Uno de los otros críticos ha mencionado que de...            1\n",
       "1  Una pequeña pequeña producción.La técnica de f...            1\n",
       "2  Pensé que esta era una manera maravillosa de p...            1\n",
       "3  Básicamente, hay una familia donde un niño peq...            0\n",
       "4  El \"amor en el tiempo\" de Petter Mattei es una...            1"
      ]
     },
     "execution_count": 6,
     "metadata": {},
     "output_type": "execute_result"
    }
   ],
   "source": [
    "imdb_df.head()"
   ]
  },
  {
   "cell_type": "code",
   "execution_count": 7,
   "metadata": {},
   "outputs": [],
   "source": [
    "# Make two lists of reviews and their labels\n",
    "reviews = imdb_df[\"review_es\"].tolist()\n",
    "labels = imdb_df[\"sentimiento\"].tolist()\n",
    "\n",
    "# Split into train and test. X is reviews, y is labels\n",
    "train_x = reviews[:int(len(reviews) * 0.8)]\n",
    "train_y = labels[:int(len(labels) * 0.8)]\n",
    "test_x = reviews[int(len(reviews) * 0.8):]\n",
    "test_y = labels[int(len(labels) * 0.8):]"
   ]
  },
  {
   "cell_type": "code",
   "execution_count": 8,
   "metadata": {},
   "outputs": [
    {
     "name": "stdout",
     "output_type": "stream",
     "text": [
      "\n",
      "Train set:\n",
      "40000\n",
      "40000\n",
      "\n",
      "Test set:\n",
      "10000\n",
      "10000\n"
     ]
    }
   ],
   "source": [
    "print(\"\\nTrain set:\")\n",
    "print(len(train_x))\n",
    "print(len(train_y))\n",
    "print(\"\\nTest set:\")\n",
    "print(len(test_x))\n",
    "print(len(test_y))"
   ]
  },
  {
   "cell_type": "code",
   "execution_count": 9,
   "metadata": {},
   "outputs": [],
   "source": [
    "# Process review function\n",
    "\n",
    "def process_review(review):\n",
    "    \"\"\"\n",
    "    Input:\n",
    "        - A string containing a review\n",
    "    Output:\n",
    "        - A list of words containing the processed review\n",
    "    \"\"\"\n",
    "    \n",
    "    stemmer = nltk.SnowballStemmer(\"spanish\")\n",
    "    stopwords_es = stopwords.words(\"spanish\")\n",
    "    # Remove accents from stopwords and remove duplicates\n",
    "    stopwords_es = [unidecode.unidecode(w) for w in stopwords_es]\n",
    "    stopwords_es = list(set(stopwords_es))\n",
    "    # Clean\n",
    "    review = re.sub(r'^RT[\\s]+', '', review)\n",
    "    review = re.sub(r'https?:\\/\\/.*[\\r\\n]*', '', review)\n",
    "    review = re.sub(r'#', '', review)\n",
    "    review = review.lower()\n",
    "    review = review.strip()\n",
    "    review = unidecode.unidecode(review) #remove accents\n",
    "    \n",
    "    # Tokenize\n",
    "    review_tokens = nltk.word_tokenize(review, \"spanish\")\n",
    "\n",
    "    # Remove symbols\n",
    "    review_tokens = [token for token in review_tokens if token.isalpha()]\n",
    "\n",
    "    # Token, stem, remove stopwords\n",
    "    reviews_clean = []\n",
    "\n",
    "    for token in review_tokens:\n",
    "        if token not in stopwords_es:\n",
    "            reviews_clean.append(stemmer.stem(token))\n",
    "\n",
    "    return reviews_clean\n"
   ]
  },
  {
   "cell_type": "code",
   "execution_count": 10,
   "metadata": {},
   "outputs": [
    {
     "name": "stdout",
     "output_type": "stream",
     "text": [
      "\n",
      "Random 5 reviews:\n",
      "['legendari', 'productor', 'pelicul', 'walt', 'disney', 'traj', 'tres', 'mejor', 'cuent', 'had', 'mund', 'pantall', 'permanec', 'pelicul', 'anim', 'popular', 'tiemp', 'primer', 'innov', 'clasic', 'blancaniev', 'niev', 'siet', 'enanit', 'lanz', 'ultim', 'entonc', 'baj', 'apreci', 'bell', 'durmient', 'hiz', 'debut', 'dos', 'quiz', 'adaptacion', 'satisfactori', 'clasic', 'cuent', 'had', 'cinderell', 'tres', 'pelicul', 'cinderell', 'fiel', 'origen', 'iron', 'diferent', 'blancaniev', 'bien', 'mal', 'convirti', 'much', 'version', 'definit', 'histori', 'cinderell', 'sigui', 'mism', 'camin', 'aunqu', 'exit', 'blancaniev', 'respons', 'restaur', 'donador', 'disney', 'fortun', 'nunc', 'logr', 'mism', 'reconoc', 'audienci', 'ciert', 'mereci', 'disney', 'vez', 'orgull', 'eligi', 'manipul', 'clasic', 'cambi', 'elabor', 'agreg', 'sustanci', 'histori', 'lug', 'reescrib', 'pantall', 'result', 'encant', 'combinacion', 'excelent', 'animacion', 'tecnic', 'bell', 'suav', 'talent', 'voz', 'perfect', 'llev', 'histori', 'vid', 'resplandor', 'perdur', 'dia', 'hoy', 'ilen', 'woods', 'interpret', 'radi', 'grab', 'disc', 'demostracion', 'cancion', 'favor', 'autor', 'material', 'hoffm', 'mack', 'dav', 'jerry', 'livingston', 'disney', 'escuch', 'sabi', 'encontr', 'cenicient', 'hech', 'interpret', 'sincer', 'woods', 'suen', 'dese', 'corazon', 'hac', 'asi', 'amor', 'oh', 'sing', 'sweet', 'nightingal', 'perfect', 'eleanor', 'audley', 'iri', 'voz', 'maleficient', 'bell', 'durmient', 'captur', 'magistral', 'crueld', 'hel', 'madrastr', 'mientr', 'rhod', 'williams', 'lucill', 'bliss', 'conden', 'maner', 'convincent', 'luis', 'van', 'root', 'realiz', 'maner', 'admir', 'rey', 'gran', 'duqu', 'jam', 'macdonald', 'entran', 'jaq', 'gus', 'raton', 'devot', 'cinderell', 'william', 'phipps', 'dialog', 'princip', 'futur', 'talk', 'show', 'anfitrion', 'mik', 'dougl', 'proporcion', 'voz', 'cant', 'veteran', 'pelicul', 'disney', 'naci', 'vern', 'felton', 'jug', 'madrug', 'had', 'hiz', 'mejor', 'numer', 'propi', 'artist', 'respons', 'mir', 'pelicul', 'mary', 'bla', 'cuy', 'uso', 'inspir', 'color', 'admir', 'gran', 'med', 'disney', 'eleg', 'fond', 'epoc', 'frances', 'agreg', 'tremend', 'calid', 'pelicul', 'import', 'personaj', 'creibl', 'cinderell', 'lucif', 'gat', 'delici', 'malv', 'madrastr', 'tra', 'tod', 'vid', 'vital', 'histori', 'menud', 'cont', 'dificil', 'cre', 'pelicul', 'anim', 'relacion', 'aniversari', 'pelicul', 'tan', 'coincidental', 'proxim', 'tempor', 'vacacion', 'cinderell', 'acab', 'ser', 'lanz', 'edicion', 'especial', 'dvd', 'simplement', 'nunc', 'vist', 'mejor', 'pelicul', 'complet', 'restaur', 'deb', 'ser', 'vistos', 'ser', 'apreci', 'bast', 'dec', 've', 'maravill', 'agreg', 'band', 'sonor', 'estere', 'mejor', 'sirv', 'bien', 'music', 'extras', 'dvd', 'ahor', 'part', 'estand', 'edicion', 'disney', 'platinum', 'demasi', 'numer', 'list', 'aqui', 'costumbr', 'dirig', 'nin', 'inclin', 'adult', 'rest', 'caen', 'algun', 'lug', 'fanat', 'real', 'querr', 'obten', 'conjunt', 'regal', 'luj', 'junt', 'celd', 'real', 'pelicul', 'ocho', 'bocet', 'caracter', 'inclu', 'libr', 'tap', 'dur', 'pagin', 'sol', 'incorpor', 'mayor', 'part', 'material', 'encuentr', 'libr', 'special', 'edition', 'hom', 'vide', 'lanzamient', 'costumbr', 'disney', 'cinderell', 'sol', 'dispon', 'tiemp', 'limit', 'entonc', 'gust', 'amant', 'cenicient', 'consigal', 'ahor', 'edicion', 'verdader', 'suen', 'hech', 'realid']\n",
      "\n",
      "['funcion', 'mejor', 'hech', 'mitchell', 'malt', 'men', 'entonc', 'escatim', 'vist', 'joe', 'don', 'bak', 'corr', 'alrededor', 'revest', 'local', 'mediterrane', 'escen', 'traj', 'vaquer', 'aspect', 'ridicul', 'mencion', 'actu', 'viej', 'pistoler', 'siend', 'mitchell', 'pelicul', 'sufr', 'falt', 'brutal', 'polici', 'men', 'comentari', 'comical', 'mik', 'bots', 'hic', 'tarif', 'agrad', 'episodi', 'embarg', 'pued', 'imagin', 'verl', 'mism']\n",
      "\n",
      "['aquell', 'espect', 'pens', 'pelicul', 'ali', 'primer', 'represent', 'mach', 'mariquit', 'impregn', 'extraterrestr', 'malevol', 'noch', 'besti', 'sangr', 'hiz', 'anos', 'pued', 'ven', 'sorpres', 'pelicul', 'prim', 'hombr', 'amer', 'espaci', 'crashlands', 'vuelv', 'tierr', 'despu', 'exam', 'cre', 'muert', 'tard', 'vuelv', 'volv', 'caer', 'sol', 'medi', 'docen', 'cos', 'alienigen', 'marhor', 'alienigen', 'crec', 'abdom', 'mam', 'ali', 'aparec', 'aterroriz', 'pequen', 'band', 'cientif', 'observ', 'hero', 'gravid', 'parec', 'parec', 'ten', 'cuerp', 'oso', 'cabez', 'yarnek', 'criatur', 'roc', 'estrell', 'trek', 'episodi', 'mod', 'tiemp', 'cort', 'minut', 'grup', 'pequen', 'cientif', 'monstru', 'aspect', 'barat', 'pelicul', 'sugier', 'men', 'calent', 'grad', 'z', 'limit', 'extern', 'estrenari', 'cuatr', 'anos', 'despu', 'bien', 'escrib', 'espectacul', 'general', 'jact', 'pes', 'titul', 'ludic', 'pelicul', 'decidid', 'cifr', 'horror', 'ofrec', 'mied', 'laffs', 'suspens', 'poc', 'com', 'pensamient', 'posterior', 'parec', 'cuest', 'alrededor', 'hac', 'probabl', 'cost', 'dobl', 'puntaj', 'musical', 'menud', 'parec', 'ten', 'relacion', 'acontec', 'usar', 'palabr', 'accion', 'pantall', 'final', 'pelicul', 'much', 'pregunt', 'sig', 'siend', 'hero', 'dar', 'luz', 'criatur', 'alienigen', 'necesit', 'decapit', 'person', 'aprend', 'idiom', 'justific', 'titul', 'dud', 'extraterrestr', 'viaj', 'espaci', 'pued', 'aterriz', 'planet', 'lug', 'necesit', 'pase', 'barc', 'impregn', 'hero', 'empez', 'asunt', 'pequen', 'barat', 'pued', 'ser', 'molest', 'realment', 'sol', 'complet', 'sol']\n",
      "\n",
      "['pelicul', 'largometr', 'cgi', 'acab', 'ser', 'lanz', 'ano', 'bien', 'brind', 'entreten', 'nin', 'fanat', 'alvin', 'seguidor', 'crec', 'version', 'anos', 'espectacul', 'dibuj', 'anim', 'probabl', 'aventur', 'chipmunk', 'mejor', 'alvin', 'pelicul', 'anim', 'bas', 'licrist', 'siempr', 'empez', 'animacion', 'tan', 'terribl', 'disen', 'personaj', 'deb', 'cartuch', 'diferent', 'pelicul', 'pelicul', 'movimient', 'sol', 'divert', 'ver', 'voc', 'celeb', 'efect', 'gener', 'cgi', 'sol', 'calid', 'pur', 'animacion', 'dibuj', 'man', 'color', 'fantast', 'brillant', 'audac', 'hermos', 'chist', 'humor', 'estand', 'tipic', 'ardill', 'narrat', 'lug', 'verd', 'aventur', 'chipmunk', 'pelicul', 'accion', 'viv', 'deberi', 'hab', 'sid', 'alvin', 'simon', 'theodor', 'compit', 'chipett', 'elenor', 'jeanett', 'britney', 'concurs', 'glob', 'air', 'calient', 'camin', 'nin', 'encuentr', 'tip', 'problem', 'dilem', 'resolv', 'maner', 'ningun', 'pelicul', 'chipmunk', 'complet', 'rendicion', 'extran', 'roc', 'clasic', 'himn', 'pop', 'aventur', 'ardill', 'nin', 'adult', 'igual', 'ventaj', 'pelicul', 'cgi', 'mientr', 'version', 'obtendr', 'admir', 'pelicul', 'atraer', 'fanat', 'ligmunk', 'joven', 'mayor', 'bagdarasi', 'karm', 'proporcion', 'voc', 'heli', 'tri', 'pelicul', 'tod', 'pelicul', 'visit', 'oblig', 'fanat', 'caricatur', 'muestr', 'mism', 'dej', 'decepcion', 'vist', 'version', 'accion', 'viv', 'sentir', 'pelicul', 'esfuerz', 'mejor', 'contr', 'hech', 'deberi', 'ir', 'verl', 'todavi', 'inclus', 'aun', 'asi', 'olvid', 'pelicul', 'jason', 'lee', 'altern', 'quedat']\n",
      "\n",
      "['sporting', 'titul', 'aparent', 'adecu', 'destac', 'looney', 'tun', 'grisly', 'giall', 'tortur', 'patit', 'embarg', 'thrill', 'grad', 'horror', 'maestr', 'luci', 'fulci', 'algui', 'estrangul', 'nin', 'preadolescent', 'puebl', 'rural', 'suren', 'italian', 'tipic', 'gialli', 'sospech', 'barb', 'bouchet', 'patrizi', 'luc', 'escrit', 'vist', 'chic', 'ric', 'escond', 'despu', 'escandal', 'drog', 'florind', 'bolk', 'marti', 'muj', 'vudu', 'epilept', 'local', 'brujeri', 'practic', 'beau', 'giusepp', 'idiot', 'local', 'sacerdot', 'car', 'dulc', 'madr', 'madr', 'asi', 'suces', 'pelicul', 'present', 'piez', 'conjunt', 'inusual', 'violent', 'inclu', 'bat', 'caden', 'personaj', 'principal', 'cementeri', 'secuenci', 'realist', 'vist', 'ingeni', 'duquen', 'asesin', 'final', 'revel', 'estall', 'violenci', 'pelicul', 'compens', 'hech', 'verdader', 'asust', 'suspens', 'habl', 'aun', 'asi', 'gall', 'fascin', 'inusual', 'telon', 'fond', 'rural', 'asesinat', 'infantil', 'personaj', 'extran', 'caracter', 'extran', 'puntaj', 'freaky', 'riz', 'ortolani', 'pelicul', 'sid', 'bell', 'fotografi', 'supong', 'ser', 'mont', 'cerc', 'adriat', 'sur', 'itali', 'men', 'fuerz', 'policial', 'ciud', 'agradec', 'credit', 'cierr', 'mientr', 'subtitul', 'hech', 'trabaj', 'dvd', 'aspect', 'fin', 'aun', 'mejor', 'jerg', 'estadounidens', 'convenc', 'entorn', 'italian', 'rural', 'deb', 'agradec', 'anchor', 'bay', 'trabaj', 'bien', 'hech', 'oh', 'titul', 'perfect']\n",
      "\n"
     ]
    }
   ],
   "source": [
    "# Clean 5 random reviews\n",
    "print(\"\\nRandom 5 reviews:\")\n",
    "for review in np.random.choice(train_x, 5):\n",
    "    print(process_review(review))\n",
    "    print()\n"
   ]
  },
  {
   "cell_type": "code",
   "execution_count": 11,
   "metadata": {},
   "outputs": [],
   "source": [
    "# Build freqs function\n",
    "def build_freqs(tweets, ys):\n",
    "    \"\"\"Build frequencies.\n",
    "    Input:\n",
    "        tweets: a list of tweets\n",
    "        ys: an m x 1 array with the sentiment label of each tweet\n",
    "            (either 0 or 1)\n",
    "    Output:\n",
    "        freqs: a dictionary mapping each (word, sentiment) pair to its\n",
    "        frequency\n",
    "    \"\"\"\n",
    "    # Convert np array to list since zip needs an iterable.\n",
    "    # The squeeze is necessary or the list ends up with one element.\n",
    "    # Also note that this is just a NOP if ys is already a list.\n",
    "    yslist = np.squeeze(ys).tolist()\n",
    "\n",
    "    # Start with an empty dictionary and populate it by looping over all tweets\n",
    "    # and over all processed words in each tweet.\n",
    "    freqs = {}\n",
    "    for y, tweet in tqdm(zip(yslist, tweets), total=len(tweets)):\n",
    "        for word in process_review(tweet):\n",
    "            pair = (word, y)\n",
    "            if pair in freqs:\n",
    "                freqs[pair] += 1\n",
    "            else:\n",
    "                freqs[pair] = 1\n",
    "\n",
    "    return freqs"
   ]
  },
  {
   "cell_type": "code",
   "execution_count": 12,
   "metadata": {},
   "outputs": [],
   "source": [
    "# Check with pickle if freqs.pkl exists. If not calculate freqs and save\n",
    "if os.path.exists(\"freqs.pkl\"):\n",
    "    with open(\"freqs.pkl\", \"rb\") as f:\n",
    "        freqs = pickle.load(f)\n",
    "else:\n",
    "    freqs = build_freqs(train_x, train_y)\n",
    "    with open(\"freqs.pkl\", \"wb\") as f:\n",
    "        pickle.dump(freqs, f)"
   ]
  },
  {
   "cell_type": "code",
   "execution_count": 13,
   "metadata": {},
   "outputs": [
    {
     "name": "stdout",
     "output_type": "stream",
     "text": [
      "\n",
      "Freqs:\n",
      "127763\n",
      "<class 'dict'>\n"
     ]
    }
   ],
   "source": [
    "# Print len and type\n",
    "print(\"\\nFreqs:\")\n",
    "print(len(freqs))\n",
    "print(type(freqs))"
   ]
  },
  {
   "cell_type": "markdown",
   "metadata": {},
   "source": [
    "## Logistic Regression"
   ]
  },
  {
   "cell_type": "code",
   "execution_count": 14,
   "metadata": {},
   "outputs": [],
   "source": [
    "# Sigmoid function\n",
    "def sigmoid(x):\n",
    "    return 1 / (1 + np.exp(-x))"
   ]
  },
  {
   "cell_type": "code",
   "execution_count": 15,
   "metadata": {},
   "outputs": [
    {
     "name": "stdout",
     "output_type": "stream",
     "text": [
      "\n",
      "Sigmoid of 0:\n",
      "0.5\n",
      "\n",
      "Sigmoid of 1:\n",
      "0.7310585786300049\n"
     ]
    }
   ],
   "source": [
    "# Test it\n",
    "print(\"\\nSigmoid of 0:\")\n",
    "print(sigmoid(0))\n",
    "print(\"\\nSigmoid of 1:\")\n",
    "print(sigmoid(1))"
   ]
  },
  {
   "cell_type": "markdown",
   "metadata": {},
   "source": [
    "## Gradient descent. CPU and GPU\n",
    "\n",
    "For the gradient descent, in order to process the large dataset, I will use a GPU approach using CuPy."
   ]
  },
  {
   "cell_type": "code",
   "execution_count": 16,
   "metadata": {},
   "outputs": [],
   "source": [
    "def gradientDescent(x, y, theta, alpha, num_iters):\n",
    "    '''\n",
    "    Input:\n",
    "        x: matrix of features which is (m,n+1)\n",
    "        y: corresponding labels of the input matrix x, dimensions (m,1)\n",
    "        theta: weight vector of dimension (n+1,1)\n",
    "        alpha: learning rate\n",
    "        num_iters: number of iterations you want to train your model for\n",
    "    Output:\n",
    "        J: the final cost\n",
    "        theta: your final weight vector\n",
    "    Hint: you might want to print the cost to make sure that it is going down.\n",
    "    '''\n",
    "    ### START CODE HERE (REPLACE INSTANCES OF 'None' with your code) ###\n",
    "    # get 'm', the number of rows in matrix x\n",
    "    m = x.shape[0]\n",
    "    \n",
    "    for i in range(0, num_iters):\n",
    "        \n",
    "        # get z, the dot product of x and theta\n",
    "        z = np.dot(x,theta)\n",
    "        \n",
    "        # get the sigmoid of z\n",
    "        h = sigmoid(z)\n",
    "        \n",
    "        # calculate the cost function\n",
    "        J = -1./m * (np.dot(y.transpose(), np.log(h)) + np.dot((1-y).transpose(),np.log(1-h)))    \n",
    "\n",
    "        # update the weights theta\n",
    "        theta = theta = theta - (alpha/m) * np.dot(x.transpose(),(h-y))\n",
    "        \n",
    "    ### END CODE HERE ###\n",
    "    J = float(J)\n",
    "    return J, theta"
   ]
  },
  {
   "cell_type": "code",
   "execution_count": 17,
   "metadata": {},
   "outputs": [],
   "source": [
    "import cupy as cp\n",
    "\n",
    "def gradientDescent_gpu(x, y, theta, alpha, num_iters):\n",
    "    '''\n",
    "    Input:\n",
    "        x: matrix of features which is (m,n+1)\n",
    "        y: corresponding labels of the input matrix x, dimensions (m,1)\n",
    "        theta: weight vector of dimension (n+1,1)\n",
    "        alpha: learning rate\n",
    "        num_iters: number of iterations you want to train your model for\n",
    "    Output:\n",
    "        J: the final cost\n",
    "        theta: your final weight vector\n",
    "    Hint: you might want to print the cost to make sure that it is going down.\n",
    "    '''\n",
    "    ### START CODE HERE (REPLACE INSTANCES OF 'None' with your code) ###\n",
    "    # get 'm', the number of rows in matrix x\n",
    "    m = x.shape[0]\n",
    "\n",
    "    # Convert to cupy arrays\n",
    "    x = cp.array(x)\n",
    "    y = cp.array(y)\n",
    "    theta = cp.array(theta)\n",
    "    \n",
    "    \n",
    "    for i in tqdm(range(0, num_iters)):\n",
    "        \n",
    "        # get z, the dot product of x and theta\n",
    "        z = cp.dot(x,theta)\n",
    "        \n",
    "        # get the sigmoid of z\n",
    "        h = sigmoid(z)\n",
    "        h = cp.array(h)\n",
    "        \n",
    "        # calculate the cost function\n",
    "        J = -1./m * (cp.dot(y.transpose(), cp.log(h)) + cp.dot((1-y).transpose(),cp.log(1-h)))\n",
    "\n",
    "        # update the weights theta\n",
    "        theta = theta - (alpha/m) * cp.dot(x.transpose(),(h-y))\n",
    "        \n",
    "    ### END CODE HERE ###\n",
    "    J = float(J)\n",
    "    theta = theta.get()\n",
    "    return J, theta"
   ]
  },
  {
   "cell_type": "code",
   "execution_count": 18,
   "metadata": {},
   "outputs": [
    {
     "name": "stdout",
     "output_type": "stream",
     "text": [
      "The cost after training is 0.67094970.\n",
      "The resulting vector of weights is [4.1e-07, 0.00035658, 7.309e-05]\n"
     ]
    }
   ],
   "source": [
    "# Check the two functions\n",
    "np.random.seed(1)\n",
    "tmp_X = np.append(np.ones((10, 1)), np.random.rand(10, 2) * 2000, axis=1)\n",
    "# Y Labels are 10 x 1\n",
    "tmp_Y = (np.random.rand(10, 1) > 0.35).astype(float)\n",
    "\n",
    "# Apply gradient descent\n",
    "tmp_J, tmp_theta = gradientDescent(tmp_X, tmp_Y, np.zeros((3, 1)), 1e-8, 700)\n",
    "print(f\"The cost after training is {tmp_J:.8f}.\")\n",
    "print(f\"The resulting vector of weights is {[round(t, 8) for t in np.squeeze(tmp_theta)]}\")\n"
   ]
  },
  {
   "cell_type": "code",
   "execution_count": 19,
   "metadata": {},
   "outputs": [
    {
     "data": {
      "application/vnd.jupyter.widget-view+json": {
       "model_id": "f9b46f4986664be990b505e45080571a",
       "version_major": 2,
       "version_minor": 0
      },
      "text/plain": [
       "  0%|          | 0/700 [00:00<?, ?it/s]"
      ]
     },
     "metadata": {},
     "output_type": "display_data"
    },
    {
     "name": "stdout",
     "output_type": "stream",
     "text": [
      "The cost after training is 0.67094970.\n",
      "The resulting vector of weights is [4.1e-07, 0.00035658, 7.309e-05]\n"
     ]
    }
   ],
   "source": [
    "# Test the GPU version\n",
    "tmp_J, tmp_theta = gradientDescent_gpu(tmp_X, tmp_Y, cp.zeros((3, 1)), 1e-8, 700)\n",
    "print(f\"The cost after training is {tmp_J:.8f}.\")\n",
    "print(f\"The resulting vector of weights is {[round(t, 8) for t in np.squeeze(tmp_theta)]}\")"
   ]
  },
  {
   "cell_type": "markdown",
   "metadata": {},
   "source": [
    "## Feature extraction"
   ]
  },
  {
   "cell_type": "code",
   "execution_count": 20,
   "metadata": {},
   "outputs": [],
   "source": [
    "def extract_features(tweet, freqs):\n",
    "    '''\n",
    "    Input: \n",
    "        tweet: a list of words for one tweet\n",
    "        freqs: a dictionary corresponding to the frequencies of each tuple (word, label)\n",
    "    Output: \n",
    "        x: a feature vector of dimension (1,3)\n",
    "    '''\n",
    "    # process_tweet tokenizes, stems, and removes stopwords\n",
    "    word_l = process_review(tweet)\n",
    "    \n",
    "    # 3 elements in the form of a 1 x 3 vector\n",
    "    x = np.zeros((1, 3)) \n",
    "    \n",
    "    #bias term is set to 1\n",
    "    x[0,0] = 1 \n",
    "\n",
    "    \n",
    "    # loop through each word in the list of words\n",
    "    for word in word_l:        \n",
    "        # increment the word count for the positive label 1\n",
    "        x[0,1] += freqs.get((word, 1.0),0)\n",
    "        \n",
    "        # increment the word count for the negative label 0\n",
    "        x[0,2] += freqs.get((word, 0.0),0)\n",
    "        \n",
    "    assert(x.shape == (1, 3))\n",
    "    return x"
   ]
  },
  {
   "cell_type": "code",
   "execution_count": 21,
   "metadata": {},
   "outputs": [
    {
     "name": "stdout",
     "output_type": "stream",
     "text": [
      "\n",
      "Features of two phrases\n",
      "[[1.00e+00 1.75e+03 9.59e+02]]\n",
      "[[1.0000e+00 5.3690e+03 1.3958e+04]]\n"
     ]
    }
   ],
   "source": [
    "# Features of two random reviews\n",
    "print(\"\\nFeatures of two phrases\")\n",
    "print(extract_features(\"Ayer estuve genial\", freqs)) # a positive example\n",
    "print(extract_features(\"Hoy estamos muy mal\", freqs)) # a negative one"
   ]
  },
  {
   "cell_type": "markdown",
   "metadata": {},
   "source": [
    "## Model training\n",
    "\n",
    "Here we will train the model using the training data, and the GPU version of the gradient descent."
   ]
  },
  {
   "cell_type": "code",
   "execution_count": 22,
   "metadata": {},
   "outputs": [],
   "source": [
    "X = np.zeros((len(train_x), 3))\n",
    "\n",
    "# Check if features.pkl exists\n",
    "if os.path.exists(\"features.pkl\"):\n",
    "    with open(\"features.pkl\", \"rb\") as f:\n",
    "        X = pickle.load(f)\n",
    "else:\n",
    "    for i in tqdm(range(len(train_x))):\n",
    "        X[i, :]= extract_features(train_x[i], freqs)\n",
    "    with open(\"features.pkl\", \"wb\") as f:\n",
    "        pickle.dump(X, f)\n"
   ]
  },
  {
   "cell_type": "code",
   "execution_count": 23,
   "metadata": {},
   "outputs": [],
   "source": [
    "# For each train_y if == 1 then Y[i] = np.ones(1,1) else Y[i] = np.zeros(1,1)\n",
    "Y = np.zeros((len(train_y), 1))\n",
    "for i in range(len(train_y)):\n",
    "    if train_y[i] == 1:\n",
    "        Y[i, 0] = 1\n",
    "    else:\n",
    "        Y[i, 0] = 0"
   ]
  },
  {
   "cell_type": "code",
   "execution_count": 24,
   "metadata": {},
   "outputs": [
    {
     "name": "stdout",
     "output_type": "stream",
     "text": [
      "\n",
      "First 10 elements of X and Y\n",
      "[[1.00000e+00 2.59999e+05 2.67971e+05]\n",
      " [1.00000e+00 1.95620e+05 2.00093e+05]\n",
      " [1.00000e+00 1.77269e+05 1.77734e+05]\n",
      " [1.00000e+00 4.56248e+05 4.96460e+05]\n",
      " [1.00000e+00 5.21486e+05 5.30807e+05]\n",
      " [1.00000e+00 2.48780e+05 2.59603e+05]\n",
      " [1.00000e+00 2.37611e+05 2.47525e+05]\n",
      " [1.00000e+00 2.20732e+05 2.44603e+05]\n",
      " [1.00000e+00 4.21248e+05 4.68492e+05]\n",
      " [1.00000e+00 9.73970e+04 1.00945e+05]]\n",
      "[[1.]\n",
      " [1.]\n",
      " [1.]\n",
      " [0.]\n",
      " [1.]\n",
      " [1.]\n",
      " [1.]\n",
      " [0.]\n",
      " [0.]\n",
      " [1.]]\n"
     ]
    }
   ],
   "source": [
    "# Print first 10 elements of X and Y\n",
    "print(\"\\nFirst 10 elements of X and Y\")\n",
    "print(X[:10, :])\n",
    "print(Y[:10, :])"
   ]
  },
  {
   "cell_type": "code",
   "execution_count": 25,
   "metadata": {},
   "outputs": [
    {
     "data": {
      "application/vnd.jupyter.widget-view+json": {
       "model_id": "0cb10b0a015248b7b942277acc881e8d",
       "version_major": 2,
       "version_minor": 0
      },
      "text/plain": [
       "  0%|          | 0/700 [00:00<?, ?it/s]"
      ]
     },
     "metadata": {},
     "output_type": "display_data"
    }
   ],
   "source": [
    "# Gradient descent\n",
    "# Only use first 100 samples\n",
    "train_100 = X[:100, :]\n",
    "train_100_y = Y[:100, :]\n",
    "\n",
    "J_100, theta_100 = gradientDescent_gpu(train_100, train_100_y, np.zeros((3, 1)), 1e-8, 700)"
   ]
  },
  {
   "cell_type": "code",
   "execution_count": 26,
   "metadata": {},
   "outputs": [
    {
     "name": "stdout",
     "output_type": "stream",
     "text": [
      "\n",
      "The cost after training is nan\n",
      "The resulting vector of weights is [-1.4e-07, 0.00876147, -0.0081767]\n"
     ]
    }
   ],
   "source": [
    "# Print the cost and the resulting weight vector\n",
    "print(\"\\nThe cost after training is\", J_100)\n",
    "print(\"The resulting vector of weights is\", [round(t, 8) for t in np.squeeze(theta_100)])"
   ]
  },
  {
   "cell_type": "code",
   "execution_count": 27,
   "metadata": {},
   "outputs": [
    {
     "data": {
      "application/vnd.jupyter.widget-view+json": {
       "model_id": "936d3997c5014170b131eead9f9cdac9",
       "version_major": 2,
       "version_minor": 0
      },
      "text/plain": [
       "  0%|          | 0/3000 [00:00<?, ?it/s]"
      ]
     },
     "metadata": {},
     "output_type": "display_data"
    }
   ],
   "source": [
    "# Train with the entire dataset\n",
    "J_all, theta_all = gradientDescent_gpu(X, Y, np.zeros((3, 1)), 1e-9, 3000)"
   ]
  },
  {
   "cell_type": "code",
   "execution_count": 28,
   "metadata": {},
   "outputs": [
    {
     "name": "stdout",
     "output_type": "stream",
     "text": [
      "\n",
      "The cost after training is nan\n",
      "The resulting vector of weights is [1.2e-07, 0.00146131, -0.00129507]\n"
     ]
    }
   ],
   "source": [
    "print(\"\\nThe cost after training is\", J_all)\n",
    "print(\"The resulting vector of weights is\", [round(t, 8) for t in np.squeeze(theta_all)])"
   ]
  },
  {
   "cell_type": "markdown",
   "metadata": {},
   "source": [
    "As we can see, there is something wrong with the training data, because we get a division by zero error.\n",
    "We solved that using the Cuda approach, and getting the weight vector"
   ]
  },
  {
   "cell_type": "markdown",
   "metadata": {},
   "source": [
    "## Model evaluation"
   ]
  },
  {
   "cell_type": "markdown",
   "metadata": {},
   "source": [
    "### Making some predictions"
   ]
  },
  {
   "cell_type": "code",
   "execution_count": 29,
   "metadata": {},
   "outputs": [],
   "source": [
    "def predict_text(text, freqs, theta):\n",
    "    \"\"\"\n",
    "    Input:\n",
    "        - Text: a list of words\n",
    "        - freqs: a dictionary corresponding to the frequencies of each tuple (word, label)\n",
    "        - theta: the weight vector of dimension (3,1)\n",
    "    Output:\n",
    "        - prediction: a float between 0 and 1\n",
    "    \"\"\"\n",
    "    # Get the feature vector\n",
    "    x = extract_features(text, freqs)\n",
    "    # Get the dot product of the feature vector and the weight vector\n",
    "    z = np.dot(x, theta)\n",
    "    # Get the sigmoid of the dot product\n",
    "    h = sigmoid(z)\n",
    "    # Return the prediction\n",
    "    return h"
   ]
  },
  {
   "cell_type": "code",
   "execution_count": 30,
   "metadata": {},
   "outputs": [
    {
     "name": "stdout",
     "output_type": "stream",
     "text": [
      "\n",
      " lo siento sixto tienes media de 4 en calculo los ultimos 5 años y solo un 30% aprueba la asignatura milagros no hago -> [[0.85275035]]\n",
      "\n",
      " finde qe me voy fuera de malaga finde qe me salen 129391239 planes odio esta vida -> [[0.98856361]]\n",
      "\n",
      " malisima idea tomarme dos jarras antes de ponerme a estudiar -> [[0.79547013]]\n",
      "\n",
      " si jason statham fuera malagueño y se qemase https://t.co/u9aaOvGulB -> [[0.53451258]]\n",
      "\n",
      " @warisntover https://t.co/Azy6SF7Yl5 https://t.co/nozgbtN2je -> [[0.50000003]]\n"
     ]
    }
   ],
   "source": [
    "# Predict 5 random tweets from tweets_text\n",
    "# Use 5 random indexes\n",
    "# tweets text is tweets.full_text from the tweets list\n",
    "tweets_text = [tweet.full_text for tweet in tweets]\n",
    "random_indexes = np.random.choice(len(tweets_text), 5, replace=False)\n",
    "for i in random_indexes:\n",
    "    # Print the quoted tweet -> prediction\n",
    "    print(\"\\n\", tweets_text[i], \"->\", predict_text(tweets_text[i], freqs, theta_all))"
   ]
  },
  {
   "cell_type": "code",
   "execution_count": 44,
   "metadata": {},
   "outputs": [],
   "source": [
    "# Create df with column tweets_text and column prediction\n",
    "predictions = pd.DataFrame(columns=[\"tweets_text\", \"prediction\"])\n",
    "predictions[\"tweets_text\"] = tweets_text\n",
    "predictions_list = []\n",
    "for i in range(len(tweets_text)):\n",
    "    predictions_list.append(predict_text(tweets_text[i], freqs, theta_all))\n",
    "\n",
    "predictions[\"prediction\"] = predictions_list"
   ]
  },
  {
   "cell_type": "code",
   "execution_count": 45,
   "metadata": {},
   "outputs": [
    {
     "data": {
      "image/png": "[encoded data removed]",
      "text/plain": [
       "<Figure size 432x288 with 1 Axes>"
      ]
     },
     "metadata": {
      "needs_background": "light"
     },
     "output_type": "display_data"
    }
   ],
   "source": [
    "# Count the preditions with > 0.5 and < 0.5\n",
    "pos_preds = [pred for pred in predictions[\"prediction\"] if pred > 0.5]\n",
    "neg_preds = [pred for pred in predictions[\"prediction\"] if pred < 0.5]\n",
    "\n",
    "# Bar plot of the number of positive and negative predictions\n",
    "plt.bar([\"Positive\", \"Negative\"], [len(pos_preds), len(neg_preds)])\n",
    "plt.show()"
   ]
  },
  {
   "cell_type": "code",
   "execution_count": 66,
   "metadata": {},
   "outputs": [
    {
     "data": {
      "image/png": "[encoded data removed]",
      "text/plain": [
       "<Figure size 720x540 with 1 Axes>"
      ]
     },
     "metadata": {
      "needs_background": "light"
     },
     "output_type": "display_data"
    }
   ],
   "source": [
    "# Create df_bins. Columns predictions, and column bins (0, 0.1, 0.2, 0.3, 0.4, 0.5, 0.6, 0.7, 0.8, 0.9, 1)\n",
    "df_bins = pd.DataFrame(columns=[\"predictions\", \"bins\"])\n",
    "df_bins[\"predictions\"] = predictions[\"prediction\"]\n",
    "df_bins[\"bins\"] = pd.cut(df_bins[\"predictions\"], bins=[0, 0.1, 0.2, 0.3, 0.4, 0.5, 0.6, 0.7, 0.8, 0.9, 1])\n",
    "# Bins to strings\n",
    "df_bins[\"bins\"] = df_bins[\"bins\"].astype(str)\n",
    "\n",
    "# Group by bins and count the number of predictions\n",
    "df_bins_count = df_bins.groupby(\"bins\").count()\n",
    "\n",
    "# Plot size 10x10 figure\n",
    "plt.figure(figsize=(10, 7.5))\n",
    "# Plot the number of predictions in each bin\n",
    "# Bar color goes from red to green depending on the bin\n",
    "plt.bar(df_bins_count.index, df_bins_count[\"predictions\"])\n",
    "# x 30 degrees\n",
    "plt.xticks(rotation=30)\n",
    "plt.show()\n"
   ]
  },
  {
   "cell_type": "code",
   "execution_count": 70,
   "metadata": {},
   "outputs": [
    {
     "name": "stdout",
     "output_type": "stream",
     "text": [
      "\n",
      "The 5 predictions with the highest prediction\n",
      "                                            tweets_text  \\\n",
      "1236  Here’s a song for you… I Met Sarah in the Bath...   \n",
      "276   increible como todos los tios de mi instituto ...   \n",
      "1145  los de mi trabajo tienen q conocer ya el 80% d...   \n",
      "629   the violent urge to comprarme unos chocoboms b...   \n",
      "607   me gusta qe en una empresa haya buen rollo y d...   \n",
      "\n",
      "                  prediction  \n",
      "1236  [[0.9999999610945769]]  \n",
      "276   [[0.9999999336545007]]  \n",
      "1145  [[0.9999996636671279]]  \n",
      "629   [[0.9999994491262499]]  \n",
      "607     [[0.99999915791048]]  \n",
      "\n",
      "The 5 predictions with the lowest prediction\n",
      "                                            tweets_text  \\\n",
      "1882  el truco esta en no esperarse nada nunca solo ...   \n",
      "1507  ojala fumar solo pa completar el desayuno ener...   \n",
      "202   otro post de ig que intenta hacerme sentir mal...   \n",
      "1501  menos mal qe es tele trabajo si no me tendria ...   \n",
      "69       como de mala idea es ir al gym dsps del buffet   \n",
      "\n",
      "                      prediction  \n",
      "1882  [[3.4613227674111666e-11]]  \n",
      "1507   [[4.169313309085718e-07]]  \n",
      "202    [[6.723874485507967e-07]]  \n",
      "1501   [[2.385061604805843e-06]]  \n",
      "69     [[3.091069118078556e-06]]  \n"
     ]
    }
   ],
   "source": [
    "# Print the 5 predictions with the highest prediction\n",
    "print(\"\\nThe 5 predictions with the highest prediction\")\n",
    "print(predictions.sort_values(by=\"prediction\", ascending=False).head(5))\n",
    "\n",
    "# Print the 5 predictions with the lowest prediction\n",
    "print(\"\\nThe 5 predictions with the lowest prediction\")\n",
    "print(predictions.sort_values(by=\"prediction\", ascending=True).head(5))"
   ]
  },
  {
   "cell_type": "markdown",
   "metadata": {},
   "source": [
    "### Checking performance"
   ]
  },
  {
   "cell_type": "code",
   "execution_count": 71,
   "metadata": {},
   "outputs": [],
   "source": [
    "def test_logistic_regression(test_x, test_y, freqs, theta):\n",
    "    \"\"\"\n",
    "    Input: \n",
    "        test_x: a list of tweets\n",
    "        test_y: (m, 1) vector with the corresponding labels for the list of tweets\n",
    "        freqs: a dictionary with the frequency of each pair (or tuple)\n",
    "        theta: weight vector of dimension (3, 1)\n",
    "    Output: \n",
    "        accuracy: (# of tweets classified correctly) / (total # of tweets)\n",
    "    \"\"\"\n",
    "        \n",
    "    # the list for storing predictions\n",
    "    y_hat = []\n",
    "    \n",
    "    for tweet in test_x:\n",
    "        # get the label prediction for the tweet\n",
    "        y_pred = predict_text(tweet, freqs, theta)\n",
    "        \n",
    "        if y_pred > 0.5:\n",
    "            # append 1.0 to the list\n",
    "            y_hat.append(1)\n",
    "        else:\n",
    "            # append 0 to the list\n",
    "            y_hat.append(0)\n",
    "\n",
    "    # With the above implementation, y_hat is a list, but test_y is (m,1) array\n",
    "    # convert both to one-dimensional arrays in order to compare them using the '==' operator\n",
    "    accuracy = (y_hat==np.squeeze(test_y)).sum()/len(test_x)\n",
    "    \n",
    "    return accuracy"
   ]
  },
  {
   "cell_type": "code",
   "execution_count": 73,
   "metadata": {},
   "outputs": [
    {
     "name": "stdout",
     "output_type": "stream",
     "text": [
      "Logistic regression model's accuracy = 0.6011\n"
     ]
    }
   ],
   "source": [
    "tmp_accuracy = test_logistic_regression(test_x, test_y, freqs, theta_all)\n",
    "print(f\"Logistic regression model's accuracy = {tmp_accuracy:.4f}\")"
   ]
  },
  {
   "cell_type": "markdown",
   "metadata": {},
   "source": [
    "We get an accuracy of 0.6. This might be caused by a bad translated dataset. If we inspect the dataset, we see incoherent translations, and words that do not exist in the spanish alphabet"
   ]
  }
 ],
 "metadata": {
  "kernelspec": {
   "display_name": "Python 3.7.13 ('nlp')",
   "language": "python",
   "name": "python3"
  },
  "language_info": {
   "codemirror_mode": {
    "name": "ipython",
    "version": 3
   },
   "file_extension": ".py",
   "mimetype": "text/x-python",
   "name": "python",
   "nbconvert_exporter": "python",
   "pygments_lexer": "ipython3",
   "version": "3.7.13"
  },
  "orig_nbformat": 4,
  "vscode": {
   "interpreter": {
    "hash": "84be8c82a7a3e86db451810d88cd8e67624a6eca0a3f1ff4d59d995ee7a917f6"
   }
  }
 },
 "nbformat": 4,
 "nbformat_minor": 2
}
