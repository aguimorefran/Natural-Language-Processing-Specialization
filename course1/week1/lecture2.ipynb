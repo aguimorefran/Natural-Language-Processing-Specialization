{
 "cells": [
  {
   "cell_type": "markdown",
   "metadata": {},
   "source": [
    "# Course 1: Classification and Vector Spaces\n",
    "# Week 1: Logistic Regression for Sentiment Analysis of Tweets\n",
    "\n",
    "## Lecture 2: Building frequency vectors\n",
    "\n",
    "In this lab, we will focus on the build_freqs() helper function and visualizing a dataset fed into it. In our goal of tweet sentiment analysis, this function will build a dictionary where we can lookup how many times a word appears in the lists of positive or negative tweets. This will be very helpful when extracting the features of the dataset in the week's programming assignment. Let's see how this function is implemented under the hood in this notebook."
   ]
  },
  {
   "cell_type": "markdown",
   "metadata": {},
   "source": [
    "## Setup"
   ]
  },
  {
   "cell_type": "code",
   "execution_count": 38,
   "metadata": {},
   "outputs": [],
   "source": [
    "%%capture\n",
    "%run lecture1.ipynb"
   ]
  },
  {
   "cell_type": "markdown",
   "metadata": {},
   "source": [
    "## Word Frequency Dictionary\n",
    "\n",
    "We need to build a structure containing information of a word, and how many times it appears in the positive and negative tweets.\n",
    "\n",
    "We will feed the function a list of tweets, and a binary list of whether the tweet is positive or negative in that position. \n",
    "It will return a dictionary where the keys are the words in the tweets, and the values are the number of times the word appears in the positive or negative tweets.\n"
   ]
  },
  {
   "cell_type": "code",
   "execution_count": 41,
   "metadata": {},
   "outputs": [],
   "source": [
    "def build_freqs(tweets, labels):\n",
    "    \"\"\"\n",
    "    Takes a list of tweets, and a list of labels indicating the sentiment of each tweet.\n",
    "    Returns a dictionary that maps each word to the number of positive and negative tweets that contain it.\n",
    "    Example:\n",
    "    {\n",
    "        \"word\":\n",
    "        {\n",
    "            \"positive\": 3,\n",
    "            \"negative\": 4\n",
    "        }\n",
    "    }\n",
    "    \"\"\"\n",
    "\n",
    "    freqs = {}\n",
    "    for i in range(len(tweets)):\n",
    "        tweet = tweets[i]\n",
    "        label = labels[i]\n",
    "        for word in process_text(tweet):\n",
    "            if word not in freqs:\n",
    "                freqs[word] = {\"positive\": 0, \"negative\": 0}\n",
    "            if label == 1:\n",
    "                freqs[word][\"positive\"] += 1\n",
    "            else:\n",
    "                freqs[word][\"negative\"] += 1\n",
    "    return freqs"
   ]
  },
  {
   "cell_type": "code",
   "execution_count": 42,
   "metadata": {},
   "outputs": [
    {
     "name": "stdout",
     "output_type": "stream",
     "text": [
      "9638\n",
      "<class 'dict'>\n",
      "[('top', {'positive': 32, 'negative': 6}), ('engag', {'positive': 7, 'negative': 0}), ('member', {'positive': 16, 'negative': 6}), ('commun', {'positive': 32, 'negative': 2}), ('week', {'positive': 83, 'negative': 56})]\n"
     ]
    }
   ],
   "source": [
    "# Build the tweet array\n",
    "tweets = np.append(pos_tweets, neg_tweets)\n",
    "labels = np.append(np.ones(len(pos_tweets)), np.zeros(len(neg_tweets)))\n",
    "\n",
    "# Build the frequency dictionary\n",
    "freqs = build_freqs(tweets, labels)\n",
    "\n",
    "# Print length and type of freqs\n",
    "print(len(freqs))\n",
    "print(type(freqs))\n"
   ]
  },
  {
   "cell_type": "markdown",
   "metadata": {},
   "source": [
    "## Representing the Data\n",
    "\n",
    "We will plot the 100 most repeated words in the positive and negative tweets."
   ]
  },
  {
   "cell_type": "code",
   "execution_count": 47,
   "metadata": {},
   "outputs": [
    {
     "data": {
      "text/plain": [
       "[(':(', {'positive': 1, 'negative': 4584}),\n",
       " (':)', {'positive': 3690, 'negative': 2}),\n",
       " ('thank', {'positive': 643, 'negative': 107}),\n",
       " ('follow', {'positive': 443, 'negative': 263}),\n",
       " (':-)', {'positive': 701, 'negative': 0})]"
      ]
     },
     "execution_count": 47,
     "metadata": {},
     "output_type": "execute_result"
    }
   ],
   "source": [
    "# Sort the dictionary by the of occurrences\n",
    "sorted_freqs = sorted(freqs.items(), key=lambda x: x[1][\"positive\"] + x[1][\"negative\"], reverse=True)\n",
    "sorted_freqs[:5]"
   ]
  },
  {
   "cell_type": "code",
   "execution_count": 58,
   "metadata": {},
   "outputs": [
    {
     "data": {
      "image/png": "[encoded data removed]",
      "text/plain": [
       "<Figure size 720x720 with 1 Axes>"
      ]
     },
     "metadata": {
      "needs_background": "light"
     },
     "output_type": "display_data"
    }
   ],
   "source": [
    "# Plot the top 50 words by positive and negative tweets\n",
    "# Draw a point for each word. X axis is the number of positive tweets, Y axis is the number of negative tweets.\n",
    "# Log scale\n",
    "\n",
    "plt.figure(figsize=(10,10))\n",
    "for word, freq in sorted_freqs[:20]:\n",
    "    plt.scatter(freq[\"positive\"], freq[\"negative\"])\n",
    "    plt.annotate(word, (freq[\"positive\"], freq[\"negative\"]))\n",
    "    \n",
    "plt.plot([0, 10000], [0, 10000], color=\"red\")\n",
    "plt.xlabel(\"Log Negative Count\")\n",
    "plt.ylabel(\"Log Positive Count\")\n",
    "plt.xscale(\"log\")\n",
    "plt.yscale(\"log\")\n",
    "plt.show()\n"
   ]
  }
 ],
 "metadata": {
  "kernelspec": {
   "display_name": "Python 3.7.13 ('nlp')",
   "language": "python",
   "name": "python3"
  },
  "language_info": {
   "codemirror_mode": {
    "name": "ipython",
    "version": 3
   },
   "file_extension": ".py",
   "mimetype": "text/x-python",
   "name": "python",
   "nbconvert_exporter": "python",
   "pygments_lexer": "ipython3",
   "version": "3.7.13"
  },
  "orig_nbformat": 4,
  "vscode": {
   "interpreter": {
    "hash": "84be8c82a7a3e86db451810d88cd8e67624a6eca0a3f1ff4d59d995ee7a917f6"
   }
  }
 },
 "nbformat": 4,
 "nbformat_minor": 2
}
