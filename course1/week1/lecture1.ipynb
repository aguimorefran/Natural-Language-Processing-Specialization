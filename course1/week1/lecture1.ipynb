{
 "cells": [
  {
   "cell_type": "markdown",
   "metadata": {},
   "source": [
    "# Course 1: Classification and Vector Spaces\n",
    "# Week 1: Logistic Regression for Sentiment Analysis of Tweets\n",
    "\n",
    "## Lecture 1\n",
    "\n",
    "In this lab, we will be exploring how to preprocess tweets for sentiment analysis. We will provide a function for preprocessing tweets during this week's assignment, but it is still good to know what is going on under the hood. By the end of this lecture, you will see how to use the NLTK package to perform a preprocessing pipeline for Twitter datasets."
   ]
  },
  {
   "cell_type": "markdown",
   "metadata": {},
   "source": [
    "## Setup"
   ]
  },
  {
   "cell_type": "code",
   "execution_count": 39,
   "metadata": {},
   "outputs": [],
   "source": [
    "import nltk\n",
    "from nltk.corpus import twitter_samples\n",
    "import matplotlib.pyplot as plt\n",
    "import numpy as np"
   ]
  },
  {
   "cell_type": "markdown",
   "metadata": {},
   "source": [
    "## About the Twitter dataset\n",
    "The sample dataset from NLTK is separated into positive and negative tweets. It contains 5000 positive tweets and 5000 negative tweets exactly. The exact match between these classes is not a coincidence. The intention is to have a balanced dataset. That does not reflect the real distributions of positive and negative classes in live Twitter streams. It is just because balanced datasets simplify the design of most computational methods that are required for sentiment analysis. However, it is better to be aware that this balance of classes is artificial.\n",
    "\n",
    "The dataset is already downloaded in the Coursera workspace. In a local computer however, you can download the data by doing:"
   ]
  },
  {
   "cell_type": "code",
   "execution_count": 40,
   "metadata": {},
   "outputs": [],
   "source": [
    "# nltk.download('twitter_samples')"
   ]
  },
  {
   "cell_type": "code",
   "execution_count": 41,
   "metadata": {},
   "outputs": [
    {
     "name": "stdout",
     "output_type": "stream",
     "text": [
      "<class 'list'>\n",
      "<class 'list'>\n",
      "5000\n",
      "5000\n"
     ]
    },
    {
     "data": {
      "text/plain": [
       "([<matplotlib.patches.Wedge at 0x1d870481208>,\n",
       "  <matplotlib.patches.Wedge at 0x1d870420b88>],\n",
       " [Text(6.735557395310444e-17, 1.1, 'Positive'),\n",
       "  Text(-2.0206672185931328e-16, -1.1, 'Negative')],\n",
       " [Text(3.6739403974420595e-17, 0.6, '50.0%'),\n",
       "  Text(-1.1021821192326178e-16, -0.6, '50.0%')])"
      ]
     },
     "execution_count": 41,
     "metadata": {},
     "output_type": "execute_result"
    },
    {
     "data": {
      "image/png": "[encoded data removed]",
      "text/plain": [
       "<Figure size 432x288 with 1 Axes>"
      ]
     },
     "metadata": {},
     "output_type": "display_data"
    }
   ],
   "source": [
    "# Import the postive and negative tweets\n",
    "pos_tweets = twitter_samples.strings('positive_tweets.json')\n",
    "neg_tweets = twitter_samples.strings('negative_tweets.json')\n",
    "\n",
    "print(type(pos_tweets))\n",
    "print(type(neg_tweets))\n",
    "\n",
    "print(len(pos_tweets))\n",
    "print(len(neg_tweets))\n",
    "\n",
    "# Print a pie chart of the positive and negative tweets\n",
    "plt.pie([len(pos_tweets), len(neg_tweets)], labels=['Positive', 'Negative'], autopct='%1.1f%%')"
   ]
  },
  {
   "cell_type": "code",
   "execution_count": 42,
   "metadata": {},
   "outputs": [
    {
     "name": "stdout",
     "output_type": "stream",
     "text": [
      "\u001b[92m@zbeech That will be £15.90 for you  :-)\n",
      "\u001b[92mI love u. :p https://t.co/0zr3VlB5kL\n",
      "\u001b[92m@sweettoothmarti should keep you going for a few mins lol :-)))))\n",
      "\u001b[92m\"Keep smiling because life is a beautiful thing and there is so much to smile about :)\n",
      "I have many… https://t.co/h9gtZ0Y99u\n",
      "\u001b[92m@side556 Hey!  :)  Long time no talk...\n",
      "\u001b[91mSomeone talk to me I'm boreddd :(\n",
      "\u001b[91m@KhaleesiMiley I want :(\n",
      "\u001b[91mcant believe I missed your follow spree today :( @AaronCarpenter\n",
      "\u001b[91mwhat do you mean :( http://t.co/xb7114NLDN\n",
      "\u001b[91mIt's true... :-( http://t.co/G3gV2f73Bh\n"
     ]
    }
   ],
   "source": [
    "# Get 5 random indexes from the positive and negative tweets and print the corresponding tweets\n",
    "for i in range(5):\n",
    "    print('\\033[92m' + pos_tweets[np.random.randint(0, len(pos_tweets))])\n",
    "for i in range(5):\n",
    "    print('\\033[91m' + neg_tweets[np.random.randint(0, len(neg_tweets))])"
   ]
  },
  {
   "cell_type": "markdown",
   "metadata": {},
   "source": [
    "## Preprocessing\n",
    "\n",
    "Essential steps for preprocessing a dataset are:\n",
    "- Tokenization: Split a sentence into words.\n",
    "- Lowercasing: Convert all characters to lowercase.\n",
    "- Stopword and punctuation removal: Remove stopwords and punctuations.\n",
    "- Stemming: Reduce words to their root form."
   ]
  },
  {
   "cell_type": "code",
   "execution_count": 43,
   "metadata": {},
   "outputs": [],
   "source": [
    "# nltk.download('stopwords')"
   ]
  },
  {
   "cell_type": "code",
   "execution_count": 44,
   "metadata": {},
   "outputs": [],
   "source": [
    "import re\n",
    "import string\n",
    "from nltk.corpus import stopwords\n",
    "from nltk.stem import PorterStemmer\n",
    "from nltk.tokenize import TweetTokenizer\n",
    "\n",
    "def clean_string(text):\n",
    "    \"\"\"\n",
    "    Returns a cleaned string\n",
    "    \"\"\"\n",
    "    text = re.sub(r'http\\S+', '', text)\n",
    "    text = re.sub(r'#\\S+', '', text)\n",
    "    text = re.sub(r'^RT[\\s]+', '', text)\n",
    "\n",
    "    return text\n",
    "\n",
    "def remove_stopwords_punctuation(tokens):\n",
    "    \"\"\"\n",
    "    Returns a list of tokens from the text\n",
    "    \"\"\"\n",
    "    stop_words = set(stopwords.words('english'))\n",
    "    punctuation = set(string.punctuation)\n",
    "    return [token for token in tokens if token not in stop_words and token not in punctuation]\n",
    "\n",
    "def tokenize(text):\n",
    "    \"\"\"\n",
    "    Returns a list of tokens from the text\n",
    "    \"\"\"\n",
    "    tokenizer = TweetTokenizer(preserve_case=False, strip_handles=True, reduce_len=True)\n",
    "    return tokenizer.tokenize(text)\n",
    "\n",
    "def stem_tokens(tokens):\n",
    "    \"\"\"\n",
    "    Returns a list of stemmed tokens\n",
    "    \"\"\"\n",
    "    stemmer = PorterStemmer()\n",
    "    return [stemmer.stem(token) for token in tokens]\n",
    "\n",
    "def process_text(text, debug=False):\n",
    "    \"\"\"\n",
    "    Returns a list of tokens from the text after cleaning, tokenizing, and stemming\n",
    "    \"\"\"\n",
    "    text = clean_string(text)\n",
    "    if debug:\n",
    "        print(text)\n",
    "    tokens = tokenize(text)\n",
    "    if debug:\n",
    "        print(tokens)\n",
    "    tokens = remove_stopwords_punctuation(tokens)\n",
    "    if debug:\n",
    "        print(tokens)\n",
    "    tokens = stem_tokens(tokens)\n",
    "    if debug:\n",
    "        print(tokens)\n",
    "    return tokens\n"
   ]
  },
  {
   "cell_type": "markdown",
   "metadata": {},
   "source": [
    "## Show the preprocessing pipeline"
   ]
  },
  {
   "cell_type": "code",
   "execution_count": 48,
   "metadata": {},
   "outputs": [
    {
     "name": "stdout",
     "output_type": "stream",
     "text": [
      "\u001b[92mPositive tweets:\n",
      " @France_Inte @PKuchly57 @Milipol_Paris for being top engaged members in my community this week :)\n",
      "['for', 'being', 'top', 'engaged', 'members', 'in', 'my', 'community', 'this', 'week', ':)']\n",
      "['top', 'engaged', 'members', 'community', 'week', ':)']\n",
      "['top', 'engag', 'member', 'commun', 'week', ':)']\n",
      "['top', 'engag', 'member', 'commun', 'week', ':)']\n",
      "---\n",
      "@Lamb2ja Hey James! How odd :/ Please call our Contact Centre on 02392441234 and we will be able to assist you :) Many thanks!\n",
      "['hey', 'james', '!', 'how', 'odd', ':/', 'please', 'call', 'our', 'contact', 'centre', 'on', '02392441234', 'and', 'we', 'will', 'be', 'able', 'to', 'assist', 'you', ':)', 'many', 'thanks', '!']\n",
      "['hey', 'james', 'odd', ':/', 'please', 'call', 'contact', 'centre', '02392441234', 'able', 'assist', ':)', 'many', 'thanks']\n",
      "['hey', 'jame', 'odd', ':/', 'pleas', 'call', 'contact', 'centr', '02392441234', 'abl', 'assist', ':)', 'mani', 'thank']\n",
      "['hey', 'jame', 'odd', ':/', 'pleas', 'call', 'contact', 'centr', '02392441234', 'abl', 'assist', ':)', 'mani', 'thank']\n",
      "---\n",
      "@DespiteOfficial we had a listen last night :) As You Bleed is an amazing track. When are you in Scotland?!\n",
      "['we', 'had', 'a', 'listen', 'last', 'night', ':)', 'as', 'you', 'bleed', 'is', 'an', 'amazing', 'track', '.', 'when', 'are', 'you', 'in', 'scotland', '?', '!']\n",
      "['listen', 'last', 'night', ':)', 'bleed', 'amazing', 'track', 'scotland']\n",
      "['listen', 'last', 'night', ':)', 'bleed', 'amaz', 'track', 'scotland']\n",
      "['listen', 'last', 'night', ':)', 'bleed', 'amaz', 'track', 'scotland']\n",
      "---\n",
      "@97sides CONGRATS :)\n",
      "['congrats', ':)']\n",
      "['congrats', ':)']\n",
      "['congrat', ':)']\n",
      "['congrat', ':)']\n",
      "---\n",
      "yeaaaah yippppy!!!  my accnt verified rqst has succeed got a blue tick mark on my fb profile :) in 15 days\n",
      "['yeaaah', 'yipppy', '!', '!', '!', 'my', 'accnt', 'verified', 'rqst', 'has', 'succeed', 'got', 'a', 'blue', 'tick', 'mark', 'on', 'my', 'fb', 'profile', ':)', 'in', '15', 'days']\n",
      "['yeaaah', 'yipppy', 'accnt', 'verified', 'rqst', 'succeed', 'got', 'blue', 'tick', 'mark', 'fb', 'profile', ':)', '15', 'days']\n",
      "['yeaaah', 'yipppi', 'accnt', 'verifi', 'rqst', 'succeed', 'got', 'blue', 'tick', 'mark', 'fb', 'profil', ':)', '15', 'day']\n",
      "['yeaaah', 'yipppi', 'accnt', 'verifi', 'rqst', 'succeed', 'got', 'blue', 'tick', 'mark', 'fb', 'profil', ':)', '15', 'day']\n",
      "---\n",
      "\u001b[91mNegative tweets:\n",
      "hopeless for tmr :(\n",
      "['hopeless', 'for', 'tmr', ':(']\n",
      "['hopeless', 'tmr', ':(']\n",
      "['hopeless', 'tmr', ':(']\n",
      "['hopeless', 'tmr', ':(']\n",
      "---\n",
      "Everything in the kids section of IKEA is so cute. Shame I'm nearly 19 in 2 months :(\n",
      "['everything', 'in', 'the', 'kids', 'section', 'of', 'ikea', 'is', 'so', 'cute', '.', 'shame', \"i'm\", 'nearly', '19', 'in', '2', 'months', ':(']\n",
      "['everything', 'kids', 'section', 'ikea', 'cute', 'shame', \"i'm\", 'nearly', '19', '2', 'months', ':(']\n",
      "['everyth', 'kid', 'section', 'ikea', 'cute', 'shame', \"i'm\", 'nearli', '19', '2', 'month', ':(']\n",
      "['everyth', 'kid', 'section', 'ikea', 'cute', 'shame', \"i'm\", 'nearli', '19', '2', 'month', ':(']\n",
      "---\n",
      "@Hegelbon That heart sliding into the waste basket. :(\n",
      "['that', 'heart', 'sliding', 'into', 'the', 'waste', 'basket', '.', ':(']\n",
      "['heart', 'sliding', 'waste', 'basket', ':(']\n",
      "['heart', 'slide', 'wast', 'basket', ':(']\n",
      "['heart', 'slide', 'wast', 'basket', ':(']\n",
      "---\n",
      "“@ketchBurning: I hate Japanese call him \"bani\" :( :(”\n",
      "\n",
      "Me too\n",
      "['“', ':', 'i', 'hate', 'japanese', 'call', 'him', '\"', 'bani', '\"', ':(', ':(', '”', 'me', 'too']\n",
      "['“', 'hate', 'japanese', 'call', 'bani', ':(', ':(', '”']\n",
      "['“', 'hate', 'japanes', 'call', 'bani', ':(', ':(', '”']\n",
      "['“', 'hate', 'japanes', 'call', 'bani', ':(', ':(', '”']\n",
      "---\n",
      "Dang starting next week I have \"work\" :(\n",
      "['dang', 'starting', 'next', 'week', 'i', 'have', '\"', 'work', '\"', ':(']\n",
      "['dang', 'starting', 'next', 'week', 'work', ':(']\n",
      "['dang', 'start', 'next', 'week', 'work', ':(']\n",
      "['dang', 'start', 'next', 'week', 'work', ':(']\n",
      "---\n"
     ]
    }
   ],
   "source": [
    "# For 5 positive and 5 negative tweets, print the processed text\n",
    "print('\\033[92m' + 'Positive tweets:')\n",
    "for i in range(5):\n",
    "    print(process_text(pos_tweets[i], True))\n",
    "    print('---')\n",
    "print('\\033[91m' + 'Negative tweets:')\n",
    "for i in range(5):\n",
    "    print(process_text(neg_tweets[i], True))\n",
    "    print('---')"
   ]
  }
 ],
 "metadata": {
  "kernelspec": {
   "display_name": "Python 3.7.13 ('nlp')",
   "language": "python",
   "name": "python3"
  },
  "language_info": {
   "codemirror_mode": {
    "name": "ipython",
    "version": 3
   },
   "file_extension": ".py",
   "mimetype": "text/x-python",
   "name": "python",
   "nbconvert_exporter": "python",
   "pygments_lexer": "ipython3",
   "version": "3.7.13"
  },
  "orig_nbformat": 4,
  "vscode": {
   "interpreter": {
    "hash": "84be8c82a7a3e86db451810d88cd8e67624a6eca0a3f1ff4d59d995ee7a917f6"
   }
  }
 },
 "nbformat": 4,
 "nbformat_minor": 2
}
