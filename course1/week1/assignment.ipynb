{
 "cells": [
  {
   "cell_type": "markdown",
   "metadata": {},
   "source": [
    "# Course 1: Classification and Vector Spaces\n",
    "# Week 1: Logistic Regression for Sentiment Analysis of Tweets\n",
    "## Assignment: Logistic Regression\n",
    "\n",
    "\n",
    "Welcome to week one of this specialization. You will learn about logistic regression. Concretely, you will be implementing logistic regression for sentiment analysis on tweets. Given a tweet, you will decide if it has a positive sentiment or a negative one. Specifically you will:\n",
    "\n",
    "- Learn how to extract features for logistic regression given some text\n",
    "- Implement logistic regression from scratch\n",
    "- Apply logistic regression on a natural language processing task\n",
    "- Test using your logistic regression\n",
    "- Perform error analysis\n",
    "We will be using a data set of tweets. Hopefully you will get more than 99% accuracy.\n",
    "Run the cell below to load in the packages."
   ]
  },
  {
   "cell_type": "markdown",
   "metadata": {},
   "source": [
    "## Import functions and data\n"
   ]
  },
  {
   "cell_type": "code",
   "execution_count": 1,
   "metadata": {},
   "outputs": [],
   "source": [
    "%%capture\n",
    "%run lecture2.ipynb"
   ]
  },
  {
   "cell_type": "code",
   "execution_count": 2,
   "metadata": {},
   "outputs": [],
   "source": [
    "# Import tqdm for notebooks\n",
    "from tqdm.notebook import tqdm\n",
    "from ipywidgets import IntProgress"
   ]
  },
  {
   "cell_type": "markdown",
   "metadata": {},
   "source": [
    "## Prepare the data\n",
    "\n",
    "The twitter_samples contains subsets of 5,000 positive tweets, 5,000 negative tweets, and the full set of 10,000 tweets.\n",
    "- If you used all three datasets, we would introduce duplicates of the positive tweets and negative tweets.\n",
    "- You will select just the five thousand positive tweets and five thousand negative tweets."
   ]
  },
  {
   "cell_type": "code",
   "execution_count": 3,
   "metadata": {},
   "outputs": [],
   "source": [
    "# Split both sets into training and testing sets\n",
    "# 80% training, 20% testing\n",
    "\n",
    "pos_train = pos_tweets[:int(0.8*len(pos_tweets))]\n",
    "neg_train = neg_tweets[:int(0.8*len(neg_tweets))]\n",
    "pos_test = pos_tweets[int(0.8*len(pos_tweets)):]\n",
    "neg_test = neg_tweets[int(0.8*len(neg_tweets)):]\n",
    "\n",
    "train_x = pos_train + neg_train\n",
    "test_x = pos_test + neg_test\n",
    "\n",
    "# Create the label numpy array\n",
    "train_y = np.append(np.ones(len(pos_train)), np.zeros(len(neg_train)))\n",
    "test_y = np.append(np.ones(len(pos_test)), np.zeros(len(neg_test)))\n"
   ]
  },
  {
   "cell_type": "code",
   "execution_count": 4,
   "metadata": {},
   "outputs": [
    {
     "name": "stdout",
     "output_type": "stream",
     "text": [
      "Training set: 8000 tweets\n",
      "Testing set: 2000 tweets\n",
      "Training set: <class 'list'>\n",
      "Testing set: <class 'list'>\n"
     ]
    }
   ],
   "source": [
    "# Print lengths and shapes\n",
    "print('Training set:', len(train_x), 'tweets')\n",
    "print('Testing set:', len(test_x), 'tweets')\n",
    "print('Training set:', type(train_x))\n",
    "print('Testing set:', type(test_x))\n"
   ]
  },
  {
   "cell_type": "code",
   "execution_count": 5,
   "metadata": {},
   "outputs": [
    {
     "name": "stdout",
     "output_type": "stream",
     "text": [
      "8430\n",
      "<class 'dict'>\n"
     ]
    }
   ],
   "source": [
    "# Build freqs for positive tweets\n",
    "freqs = build_freqs(train_x, train_y)\n",
    "print(len(freqs))\n",
    "print(type(freqs))"
   ]
  },
  {
   "cell_type": "markdown",
   "metadata": {},
   "source": [
    "## Logistic Regression\n",
    "### Sigmoid"
   ]
  },
  {
   "cell_type": "code",
   "execution_count": 6,
   "metadata": {},
   "outputs": [],
   "source": [
    "def sigmoid(z):\n",
    "    \"\"\"\n",
    "    Input:\n",
    "    - z: input (scalar or array)\n",
    "    Output:\n",
    "    - sigmoid(z): sigmoid of z\n",
    "    \"\"\"\n",
    "    return 1/(1+np.exp(-z))"
   ]
  },
  {
   "cell_type": "markdown",
   "metadata": {},
   "source": [
    "### Logistic regression: regression and a sigmoid\n",
    "Logistic regression takes a regular linear regression, and applies a sigmoid to the output of the linear regression.\n",
    "\n",
    "### Logistic regression: cost and gradient\n",
    "The cost function used for logistic regression is the average of the log loss across all training examples"
   ]
  },
  {
   "cell_type": "markdown",
   "metadata": {},
   "source": [
    "## Instructions: Implement gradient descent function"
   ]
  },
  {
   "cell_type": "code",
   "execution_count": 91,
   "metadata": {},
   "outputs": [],
   "source": [
    "def gradientDescent(x, y, theta, alpha, num_iters, cost_history):\n",
    "    '''\n",
    "    Input:\n",
    "        x: matrix of features which is (m,n+1)\n",
    "        y: corresponding labels of the input matrix x, dimensions (m,1)\n",
    "        theta: weight vector of dimension (n+1,1)\n",
    "        alpha: learning rate\n",
    "        num_iters: number of iterations you want to train your model for\n",
    "    Output:\n",
    "        J: the final cost\n",
    "        theta: your final weight vector\n",
    "    Hint: you might want to print the cost to make sure that it is going down.\n",
    "    '''\n",
    "    ### START CODE HERE (REPLACE INSTANCES OF 'None' with your code) ###\n",
    "    # get 'm', the number of rows in matrix x\n",
    "    m = x.shape[0]\n",
    "    \n",
    "    for i in tqdm(range(0, num_iters)):\n",
    "        \n",
    "        # get z, the dot product of x and theta\n",
    "        z = np.dot(x,theta)\n",
    "        \n",
    "        # get the sigmoid of z\n",
    "        h = sigmoid(z)\n",
    "        \n",
    "        # calculate the cost function\n",
    "        J = -1./m * (np.dot(y.transpose(), np.log(h)) + np.dot((1-y).transpose(),np.log(1-h)))    \n",
    "\n",
    "        # update the weights theta\n",
    "        theta = theta - (alpha/m) * np.dot(x.transpose(),(h-y))\n",
    "        print(theta)\n",
    "        cost_history.append(J)\n",
    "        \n",
    "    ### END CODE HERE ###\n",
    "    J = float(J)\n",
    "    return J, theta\n",
    "\n"
   ]
  },
  {
   "cell_type": "code",
   "execution_count": 83,
   "metadata": {},
   "outputs": [
    {
     "name": "stdout",
     "output_type": "stream",
     "text": [
      "[[ 1.00000000e+00  3.24869073e+03 -1.22351283e+03]\n",
      " [ 1.00000000e+00 -1.05634350e+03 -2.14593724e+03]\n",
      " [ 1.00000000e+00  1.73081526e+03 -4.60307739e+03]\n",
      " [ 1.00000000e+00  3.48962353e+03 -1.52241380e+03]\n",
      " [ 1.00000000e+00  6.38078192e+02 -4.98740751e+02]\n",
      " [ 1.00000000e+00  2.92421587e+03 -4.12028142e+03]\n",
      " [ 1.00000000e+00 -6.44834408e+02 -7.68108709e+02]\n",
      " [ 1.00000000e+00  2.26753888e+03 -2.19978253e+03]\n",
      " [ 1.00000000e+00 -3.44856415e+02 -1.75571684e+03]\n",
      " [ 1.00000000e+00  8.44274934e+01  1.16563043e+03]]\n",
      "[[0.]\n",
      " [1.]\n",
      " [1.]\n",
      " [1.]\n",
      " [1.]\n",
      " [0.]\n",
      " [0.]\n",
      " [0.]\n",
      " [0.]\n",
      " [1.]]\n"
     ]
    }
   ],
   "source": [
    "np.random.seed(1)\n",
    "tmp_x = np.append(np.ones((10, 1)), np.random.randn(10, 2) * 2000, axis=1)\n",
    "tmp_y = (np.random.randn(10, 1) > 0.35).astype(float)\n",
    "\n",
    "print(tmp_x)\n",
    "print(tmp_y)"
   ]
  },
  {
   "cell_type": "code",
   "execution_count": 84,
   "metadata": {},
   "outputs": [
    {
     "name": "stdout",
     "output_type": "stream",
     "text": [
      "The cost after training is 0.67094970.\n",
      "The resulting vector of weights is [4.1e-07, 0.00035658, 7.309e-05]\n"
     ]
    },
    {
     "data": {
      "text/plain": [
       "[<matplotlib.lines.Line2D at 0x1fbc9eee108>]"
      ]
     },
     "execution_count": 84,
     "metadata": {},
     "output_type": "execute_result"
    },
    {
     "data": {
      "image/png": "[encoded data removed]",
      "text/plain": [
       "<Figure size 432x288 with 1 Axes>"
      ]
     },
     "metadata": {
      "needs_background": "light"
     },
     "output_type": "display_data"
    }
   ],
   "source": [
    "np.random.seed(1)\n",
    "tmp_X = np.append(np.ones((10, 1)), np.random.rand(10, 2) * 2000, axis=1)\n",
    "tmp_Y = (np.random.rand(10, 1) > 0.35).astype(float)\n",
    "\n",
    "cost_history = []\n",
    "tmp_J, tmp_theta = gradientDescent(tmp_X, tmp_Y, np.zeros((3, 1)), 1e-8, 700, cost_history)\n",
    "print(f\"The cost after training is {tmp_J:.8f}.\")\n",
    "print(f\"The resulting vector of weights is {[round(t, 8) for t in np.squeeze(tmp_theta)]}\")\n",
    "\n",
    "cost_history = np.array(cost_history).flatten()\n",
    "plt.plot(cost_history)"
   ]
  },
  {
   "cell_type": "markdown",
   "metadata": {},
   "source": [
    "## Extracting the features from the tweets\n",
    "Given a list of tweets, extract the features and store them in a matrix. You will extract two features.\n",
    "- The first feature is the number of positive words in a tweet.\n",
    "- The second feature is the number of negative words in a tweet.\n",
    "Then train your logistic regression classifier on these features.\n",
    "Test the classifier on a validation set."
   ]
  },
  {
   "cell_type": "code",
   "execution_count": 85,
   "metadata": {},
   "outputs": [],
   "source": [
    "def extract_feature(tweet, freqs):\n",
    "    '''\n",
    "    Input:\n",
    "        - tweet: a string\n",
    "        - freqs: a dictionary of frequencies of the type\n",
    "        {\n",
    "            \"word\": {\n",
    "                \"positive\": int,\n",
    "                \"negative\": int\n",
    "            }\n",
    "        }\n",
    "    Output:\n",
    "        - feature_vector: a numpy array of features of dimension (1,3)\n",
    "    '''\n",
    "    tokens = process_text(tweet)\n",
    "    x = np.zeros((1, 3))\n",
    "\n",
    "    x[0, 0] = 1\n",
    "    for token in tokens:\n",
    "        if token in freqs:\n",
    "            x[0, 1] += freqs[token]['positive']\n",
    "            x[0, 2] += freqs[token]['negative']\n",
    "\n",
    "    assert x.shape == (1, 3)\n",
    "    return x"
   ]
  },
  {
   "cell_type": "code",
   "execution_count": 86,
   "metadata": {},
   "outputs": [
    {
     "name": "stdout",
     "output_type": "stream",
     "text": [
      "[[1.000e+00 3.109e+03 6.100e+01]]\n"
     ]
    }
   ],
   "source": [
    "# Check the feature vector for a tweet\n",
    "tmp1 = extract_feature(train_x[0], freqs)\n",
    "print(tmp1)"
   ]
  },
  {
   "cell_type": "markdown",
   "metadata": {},
   "source": [
    "## Training the model\n",
    "To train the model:\n",
    "\n",
    "- Stack the features for all training examples into a matrix X.\n",
    "- Call gradientDescent, which you've implemented above."
   ]
  },
  {
   "cell_type": "code",
   "execution_count": 87,
   "metadata": {},
   "outputs": [
    {
     "data": {
      "application/vnd.jupyter.widget-view+json": {
       "model_id": "63e7198b486d4a64916ab87383d7e431",
       "version_major": 2,
       "version_minor": 0
      },
      "text/plain": [
       "  0%|          | 0/2000 [00:00<?, ?it/s]"
      ]
     },
     "metadata": {},
     "output_type": "display_data"
    }
   ],
   "source": [
    "X = np.zeros((len(train_x), 3))\n",
    "for i in tqdm(range(len(test_x))):\n",
    "    X[i, :] = extract_feature(train_x[i], freqs)\n",
    "\n",
    "Y = train_y"
   ]
  },
  {
   "cell_type": "code",
   "execution_count": 92,
   "metadata": {},
   "outputs": [],
   "source": [
    "# collect the features 'x' and stack them into a matrix 'X'\n",
    "X = np.zeros((len(train_x), 3))\n",
    "for i in range(len(train_x)):\n",
    "    X[i, :]= extract_feature(train_x[i], freqs)\n",
    "\n",
    "# training labels corresponding to X\n",
    "Y = train_y\n"
   ]
  },
  {
   "cell_type": "code",
   "execution_count": 93,
   "metadata": {},
   "outputs": [
    {
     "name": "stdout",
     "output_type": "stream",
     "text": [
      "[[1.000e+00 3.109e+03 6.100e+01]\n",
      " [1.000e+00 3.705e+03 4.440e+02]\n",
      " [1.000e+00 3.119e+03 1.160e+02]\n",
      " ...\n",
      " [1.000e+00 1.440e+02 7.920e+02]\n",
      " [1.000e+00 2.070e+02 3.901e+03]\n",
      " [1.000e+00 1.870e+02 3.985e+03]]\n",
      "[1. 1. 1. ... 0. 0. 0.]\n"
     ]
    }
   ],
   "source": [
    "print(X)\n",
    "print(Y)"
   ]
  },
  {
   "cell_type": "code",
   "execution_count": 94,
   "metadata": {},
   "outputs": [
    {
     "data": {
      "application/vnd.jupyter.widget-view+json": {
       "model_id": "4a137377c97f4793aa7286e42e1caaf4",
       "version_major": 2,
       "version_minor": 0
      },
      "text/plain": [
       "  0%|          | 0/1500 [00:00<?, ?it/s]"
      ]
     },
     "metadata": {},
     "output_type": "display_data"
    },
    {
     "name": "stdout",
     "output_type": "stream",
     "text": [
      "[[ 5.00000000e-10  5.00000000e-10  5.00000000e-10 ... -5.00000000e-10\n",
      "  -5.00000000e-10 -5.00000000e-10]\n",
      " [ 7.24311500e-07  7.24311500e-07  7.24311500e-07 ... -7.24311500e-07\n",
      "  -7.24311500e-07 -7.24311500e-07]\n",
      " [ 9.77974188e-07  9.77974188e-07  9.77974188e-07 ... -9.77974188e-07\n",
      "  -9.77974188e-07 -9.77974188e-07]]\n",
      "[[ 9.99259471e-10  9.99259471e-10  9.99259471e-10 ... -9.99259471e-10\n",
      "  -9.99259471e-10 -9.99259471e-10]\n",
      " [ 1.44757364e-06  1.44757364e-06  1.44757364e-06 ... -1.44757364e-06\n",
      "  -1.44757364e-06 -1.44757364e-06]\n",
      " [ 1.95384754e-06  1.95384754e-06  1.95384754e-06 ... -1.95384754e-06\n",
      "  -1.95384754e-06 -1.95384754e-06]]\n",
      "[[ 1.49777983e-09  1.49777983e-09  1.49777983e-09 ... -1.49777983e-09\n",
      "  -1.49777983e-09 -1.49777983e-09]\n",
      " [ 2.16978808e-06  2.16978808e-06  2.16978808e-06 ... -2.16978808e-06\n",
      "  -2.16978808e-06 -2.16978808e-06]\n",
      " [ 2.92762452e-06  2.92762452e-06  2.92762452e-06 ... -2.92762452e-06\n",
      "  -2.92762452e-06 -2.92762452e-06]]\n",
      "[[ 1.99556248e-09  1.99556248e-09  1.99556248e-09 ... -1.99556248e-09\n",
      "  -1.99556248e-09 -1.99556248e-09]\n",
      " [ 2.89095650e-06  2.89095650e-06  2.89095650e-06 ... -2.89095650e-06\n",
      "  -2.89095650e-06 -2.89095650e-06]\n",
      " [ 3.89930960e-06  3.89930960e-06  3.89930960e-06 ... -3.89930960e-06\n",
      "  -3.89930960e-06 -3.89930960e-06]]\n"
     ]
    },
    {
     "ename": "KeyboardInterrupt",
     "evalue": "",
     "output_type": "error",
     "traceback": [
      "\u001b[1;31m---------------------------------------------------------------------------\u001b[0m",
      "\u001b[1;31mKeyboardInterrupt\u001b[0m                         Traceback (most recent call last)",
      "\u001b[1;32m~\\AppData\\Local\\Temp\\ipykernel_13372\\2908417011.py\u001b[0m in \u001b[0;36m<module>\u001b[1;34m\u001b[0m\n\u001b[0;32m      1\u001b[0m \u001b[1;31m# Apply gradient descent\u001b[0m\u001b[1;33m\u001b[0m\u001b[1;33m\u001b[0m\u001b[1;33m\u001b[0m\u001b[0m\n\u001b[0;32m      2\u001b[0m \u001b[0mcost_history\u001b[0m \u001b[1;33m=\u001b[0m \u001b[1;33m[\u001b[0m\u001b[1;33m]\u001b[0m\u001b[1;33m\u001b[0m\u001b[1;33m\u001b[0m\u001b[0m\n\u001b[1;32m----> 3\u001b[1;33m \u001b[0mJ\u001b[0m\u001b[1;33m,\u001b[0m \u001b[0mtheta\u001b[0m \u001b[1;33m=\u001b[0m \u001b[0mgradientDescent\u001b[0m\u001b[1;33m(\u001b[0m\u001b[0mX\u001b[0m\u001b[1;33m,\u001b[0m \u001b[0mY\u001b[0m\u001b[1;33m,\u001b[0m \u001b[0mnp\u001b[0m\u001b[1;33m.\u001b[0m\u001b[0mzeros\u001b[0m\u001b[1;33m(\u001b[0m\u001b[1;33m(\u001b[0m\u001b[1;36m3\u001b[0m\u001b[1;33m,\u001b[0m \u001b[1;36m1\u001b[0m\u001b[1;33m)\u001b[0m\u001b[1;33m)\u001b[0m\u001b[1;33m,\u001b[0m \u001b[1;36m1e-9\u001b[0m\u001b[1;33m,\u001b[0m \u001b[1;36m1500\u001b[0m\u001b[1;33m,\u001b[0m \u001b[0mcost_history\u001b[0m\u001b[1;33m)\u001b[0m\u001b[1;33m\u001b[0m\u001b[1;33m\u001b[0m\u001b[0m\n\u001b[0m\u001b[0;32m      4\u001b[0m \u001b[0mprint\u001b[0m\u001b[1;33m(\u001b[0m\u001b[1;34mf\"The cost after training is {J:.8f}.\"\u001b[0m\u001b[1;33m)\u001b[0m\u001b[1;33m\u001b[0m\u001b[1;33m\u001b[0m\u001b[0m\n\u001b[0;32m      5\u001b[0m \u001b[0mprint\u001b[0m\u001b[1;33m(\u001b[0m\u001b[1;34mf\"The resulting vector of weights is {[round(t, 8) for t in np.squeeze(theta)]}\"\u001b[0m\u001b[1;33m)\u001b[0m\u001b[1;33m\u001b[0m\u001b[1;33m\u001b[0m\u001b[0m\n",
      "\u001b[1;32m~\\AppData\\Local\\Temp\\ipykernel_13372\\627695790.py\u001b[0m in \u001b[0;36mgradientDescent\u001b[1;34m(x, y, theta, alpha, num_iters, cost_history)\u001b[0m\n\u001b[0;32m     25\u001b[0m \u001b[1;33m\u001b[0m\u001b[0m\n\u001b[0;32m     26\u001b[0m         \u001b[1;31m# calculate the cost function\u001b[0m\u001b[1;33m\u001b[0m\u001b[1;33m\u001b[0m\u001b[1;33m\u001b[0m\u001b[0m\n\u001b[1;32m---> 27\u001b[1;33m         \u001b[0mJ\u001b[0m \u001b[1;33m=\u001b[0m \u001b[1;33m-\u001b[0m\u001b[1;36m1.\u001b[0m\u001b[1;33m/\u001b[0m\u001b[0mm\u001b[0m \u001b[1;33m*\u001b[0m \u001b[1;33m(\u001b[0m\u001b[0mnp\u001b[0m\u001b[1;33m.\u001b[0m\u001b[0mdot\u001b[0m\u001b[1;33m(\u001b[0m\u001b[0my\u001b[0m\u001b[1;33m.\u001b[0m\u001b[0mtranspose\u001b[0m\u001b[1;33m(\u001b[0m\u001b[1;33m)\u001b[0m\u001b[1;33m,\u001b[0m \u001b[0mnp\u001b[0m\u001b[1;33m.\u001b[0m\u001b[0mlog\u001b[0m\u001b[1;33m(\u001b[0m\u001b[0mh\u001b[0m\u001b[1;33m)\u001b[0m\u001b[1;33m)\u001b[0m \u001b[1;33m+\u001b[0m \u001b[0mnp\u001b[0m\u001b[1;33m.\u001b[0m\u001b[0mdot\u001b[0m\u001b[1;33m(\u001b[0m\u001b[1;33m(\u001b[0m\u001b[1;36m1\u001b[0m\u001b[1;33m-\u001b[0m\u001b[0my\u001b[0m\u001b[1;33m)\u001b[0m\u001b[1;33m.\u001b[0m\u001b[0mtranspose\u001b[0m\u001b[1;33m(\u001b[0m\u001b[1;33m)\u001b[0m\u001b[1;33m,\u001b[0m\u001b[0mnp\u001b[0m\u001b[1;33m.\u001b[0m\u001b[0mlog\u001b[0m\u001b[1;33m(\u001b[0m\u001b[1;36m1\u001b[0m\u001b[1;33m-\u001b[0m\u001b[0mh\u001b[0m\u001b[1;33m)\u001b[0m\u001b[1;33m)\u001b[0m\u001b[1;33m)\u001b[0m\u001b[1;33m\u001b[0m\u001b[1;33m\u001b[0m\u001b[0m\n\u001b[0m\u001b[0;32m     28\u001b[0m \u001b[1;33m\u001b[0m\u001b[0m\n\u001b[0;32m     29\u001b[0m         \u001b[1;31m# update the weights theta\u001b[0m\u001b[1;33m\u001b[0m\u001b[1;33m\u001b[0m\u001b[1;33m\u001b[0m\u001b[0m\n",
      "\u001b[1;31mKeyboardInterrupt\u001b[0m: "
     ]
    }
   ],
   "source": [
    "# Apply gradient descent\n",
    "cost_history = []\n",
    "# J, theta = gradientDescent(X, Y, np.zeros((3, 1)), 1e-9, 1500, cost_history)\n",
    "print(f\"The cost after training is {J:.8f}.\")\n",
    "print(f\"The resulting vector of weights is {[round(t, 8) for t in np.squeeze(theta)]}\")"
   ]
  },
  {
   "cell_type": "code",
   "execution_count": 95,
   "metadata": {},
   "outputs": [],
   "source": [
    "J = 0.24216529\n",
    "theta = [7e-08, 0.0005239, -0.00055517]"
   ]
  },
  {
   "cell_type": "markdown",
   "metadata": {},
   "source": [
    "## Tweet prediction"
   ]
  },
  {
   "cell_type": "code",
   "execution_count": 101,
   "metadata": {},
   "outputs": [],
   "source": [
    "def predict_tweet(tweet, theta, freqs):\n",
    "    '''\n",
    "    Input:\n",
    "        - tweet: a string\n",
    "        - theta: a numpy array of weights of dimension (1,3)\n",
    "        - freqs: a dictionary of frequencies of the type\n",
    "        {\n",
    "            \"word\": {\n",
    "                \"positive\": int,\n",
    "                \"negative\": int\n",
    "            }\n",
    "        }\n",
    "    Output:\n",
    "        - prediction: a float\n",
    "    '''\n",
    "    x = extract_feature(tweet, freqs)\n",
    "    z = np.dot(x, theta)\n",
    "    prediction = sigmoid(z)\n",
    "    # Return flat prediction\n",
    "    return np.squeeze(prediction)"
   ]
  },
  {
   "cell_type": "code",
   "execution_count": 104,
   "metadata": {},
   "outputs": [
    {
     "name": "stdout",
     "output_type": "stream",
     "text": [
      "Tweet: Me and my friends never talk ess-aych-eye-tee about anyone :)\n",
      "Prediction: 0.8238487737638809\n",
      "Tweet: Hate being the messenger :(\n",
      "Prediction: 0.11299084558460407\n",
      "Tweet: @junior_jones it was good as always 😀Flying back today though :(\n",
      "Prediction: 0.12059319801699146\n",
      "Tweet: 3 days without talking with Bae :(\n",
      "Prediction: 0.117450518622758\n",
      "Tweet: 24 hours not enough :(\n",
      "Prediction: 0.11439414552107792\n",
      "Tweet: @michaelsutthako morning , i miss you :( :*\n",
      "Prediction: 0.10506042699367006\n",
      "Tweet: @RickyBaby321 It's not forwarding Richard...it's 'follow' :)\n",
      "Prediction: 0.8293606842787128\n",
      "Tweet: @chewy4cutie but you can with me :)\n",
      "Prediction: 0.8248608247734253\n",
      "Tweet: 15 Days ago Danny took my wig and put it onto mark's head I want to go back there @thescript @TheScript_Danny :( ♥ https://t.co/9ojA3FPxKF\n",
      "Prediction: 0.10866962342466999\n",
      "Tweet: Some times I like this style :| but now I didn't liked it :( http://t.co/jjSI8VScPL\n",
      "Prediction: 0.11351574446987017\n"
     ]
    }
   ],
   "source": [
    "# Predict 10 random tweets\n",
    "for i in range(10):\n",
    "    idx = np.random.randint(0, len(test_x))\n",
    "    tweet = test_x[idx]\n",
    "    prediction = predict_tweet(tweet, theta, freqs)\n",
    "    print(\"Tweet:\", tweet)\n",
    "    print(\"Prediction:\", prediction)\n"
   ]
  },
  {
   "cell_type": "markdown",
   "metadata": {},
   "source": [
    "## Checking model accuracy"
   ]
  },
  {
   "cell_type": "code",
   "execution_count": 109,
   "metadata": {},
   "outputs": [],
   "source": [
    "def test_logistic_regression(test_x, test_y, theta, freqs):\n",
    "    '''\n",
    "    Input:\n",
    "        - test_x: a list of strings\n",
    "        - test_y: a list of labels\n",
    "        - theta: a numpy array of weights of dimension (1,3)\n",
    "        - freqs: a dictionary of frequencies of the type\n",
    "        {\n",
    "            \"word\": {\n",
    "                \"positive\": int,\n",
    "                \"negative\": int\n",
    "            }\n",
    "        }\n",
    "    Output:\n",
    "        - accuracy: a float\n",
    "    '''\n",
    "    y_hat = []\n",
    "    for tweet in test_x:\n",
    "        y_pred = predict_tweet(tweet, theta, freqs)\n",
    "        if y_pred > 0.5:\n",
    "            y_hat.append(1)\n",
    "        else:\n",
    "            y_hat.append(0)\n",
    "    accuracy = (y_hat==np.squeeze(test_y)).sum()/len(test_x)\n",
    "    return accuracy"
   ]
  },
  {
   "cell_type": "code",
   "execution_count": 111,
   "metadata": {},
   "outputs": [
    {
     "name": "stdout",
     "output_type": "stream",
     "text": [
      "The accuracy of the model is 0.9955\n"
     ]
    }
   ],
   "source": [
    "print(\"The accuracy of the model is\", test_logistic_regression(test_x, test_y, theta, freqs))"
   ]
  }
 ],
 "metadata": {
  "kernelspec": {
   "display_name": "Python 3.7.13 ('nlp')",
   "language": "python",
   "name": "python3"
  },
  "language_info": {
   "codemirror_mode": {
    "name": "ipython",
    "version": 3
   },
   "file_extension": ".py",
   "mimetype": "text/x-python",
   "name": "python",
   "nbconvert_exporter": "python",
   "pygments_lexer": "ipython3",
   "version": "3.7.13"
  },
  "orig_nbformat": 4,
  "vscode": {
   "interpreter": {
    "hash": "84be8c82a7a3e86db451810d88cd8e67624a6eca0a3f1ff4d59d995ee7a917f6"
   }
  }
 },
 "nbformat": 4,
 "nbformat_minor": 2
}
